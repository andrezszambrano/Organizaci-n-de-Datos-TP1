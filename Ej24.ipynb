{
 "cells": [
  {
   "cell_type": "markdown",
   "metadata": {},
   "source": [
    "# Ejercicio 24\n",
    "Calcule el porcentaje de nulos para todas las columnas de geo_tags.csv "
   ]
  },
  {
   "cell_type": "code",
   "execution_count": 1,
   "metadata": {},
   "outputs": [],
   "source": [
    "import pandas as pd\n",
    "import numpy as np\n",
    "import warnings\n",
    "warnings.filterwarnings('ignore')\n",
    "#df = pd.read_csv('/home/andrezszambrano/Documents/Facultad de Ingeniería de Buenos Aires/Organización de Datos/Trabajos Prácticos /TP1/WikipediaDataset/contents.csv', nrows = 100)\n",
    "df = pd.read_csv('./WikipediaDataset/geo_tags.csv')"
   ]
  },
  {
   "cell_type": "code",
   "execution_count": 2,
   "metadata": {},
   "outputs": [
    {
     "data": {
      "text/html": [
       "<div>\n",
       "<style scoped>\n",
       "    .dataframe tbody tr th:only-of-type {\n",
       "        vertical-align: middle;\n",
       "    }\n",
       "\n",
       "    .dataframe tbody tr th {\n",
       "        vertical-align: top;\n",
       "    }\n",
       "\n",
       "    .dataframe thead th {\n",
       "        text-align: right;\n",
       "    }\n",
       "</style>\n",
       "<table border=\"1\" class=\"dataframe\">\n",
       "  <thead>\n",
       "    <tr style=\"text-align: right;\">\n",
       "      <th></th>\n",
       "      <th>gt_id</th>\n",
       "      <th>gt_page_id</th>\n",
       "      <th>gt_globe</th>\n",
       "      <th>gt_primary</th>\n",
       "      <th>gt_lat</th>\n",
       "      <th>gt_lon</th>\n",
       "      <th>gt_dim</th>\n",
       "      <th>gt_type</th>\n",
       "      <th>gt_name</th>\n",
       "      <th>gt_country</th>\n",
       "      <th>gt_region</th>\n",
       "    </tr>\n",
       "  </thead>\n",
       "  <tbody>\n",
       "    <tr>\n",
       "      <th>0</th>\n",
       "      <td>158041</td>\n",
       "      <td>4328020</td>\n",
       "      <td>earth</td>\n",
       "      <td>0</td>\n",
       "      <td>41.5075</td>\n",
       "      <td>-5.8175</td>\n",
       "      <td>1000</td>\n",
       "      <td>NaN</td>\n",
       "      <td>NaN</td>\n",
       "      <td>NaN</td>\n",
       "      <td>NaN</td>\n",
       "    </tr>\n",
       "    <tr>\n",
       "      <th>1</th>\n",
       "      <td>5844377</td>\n",
       "      <td>4670424</td>\n",
       "      <td>earth</td>\n",
       "      <td>0</td>\n",
       "      <td>13.7380</td>\n",
       "      <td>-89.2920</td>\n",
       "      <td>10000</td>\n",
       "      <td>city</td>\n",
       "      <td>NaN</td>\n",
       "      <td>NaN</td>\n",
       "      <td>NaN</td>\n",
       "    </tr>\n",
       "    <tr>\n",
       "      <th>2</th>\n",
       "      <td>5844381</td>\n",
       "      <td>4670424</td>\n",
       "      <td>earth</td>\n",
       "      <td>0</td>\n",
       "      <td>13.7020</td>\n",
       "      <td>-89.2080</td>\n",
       "      <td>10000</td>\n",
       "      <td>city</td>\n",
       "      <td>NaN</td>\n",
       "      <td>NaN</td>\n",
       "      <td>NaN</td>\n",
       "    </tr>\n",
       "    <tr>\n",
       "      <th>3</th>\n",
       "      <td>5844383</td>\n",
       "      <td>4670424</td>\n",
       "      <td>earth</td>\n",
       "      <td>0</td>\n",
       "      <td>13.4000</td>\n",
       "      <td>-89.7500</td>\n",
       "      <td>10000</td>\n",
       "      <td>city</td>\n",
       "      <td>NaN</td>\n",
       "      <td>NaN</td>\n",
       "      <td>NaN</td>\n",
       "    </tr>\n",
       "    <tr>\n",
       "      <th>4</th>\n",
       "      <td>5844388</td>\n",
       "      <td>4670424</td>\n",
       "      <td>earth</td>\n",
       "      <td>0</td>\n",
       "      <td>12.8500</td>\n",
       "      <td>-88.0000</td>\n",
       "      <td>10000</td>\n",
       "      <td>city</td>\n",
       "      <td>NaN</td>\n",
       "      <td>NaN</td>\n",
       "      <td>NaN</td>\n",
       "    </tr>\n",
       "  </tbody>\n",
       "</table>\n",
       "</div>"
      ],
      "text/plain": [
       "     gt_id  gt_page_id gt_globe  gt_primary   gt_lat   gt_lon  gt_dim gt_type  \\\n",
       "0   158041     4328020    earth           0  41.5075  -5.8175    1000     NaN   \n",
       "1  5844377     4670424    earth           0  13.7380 -89.2920   10000    city   \n",
       "2  5844381     4670424    earth           0  13.7020 -89.2080   10000    city   \n",
       "3  5844383     4670424    earth           0  13.4000 -89.7500   10000    city   \n",
       "4  5844388     4670424    earth           0  12.8500 -88.0000   10000    city   \n",
       "\n",
       "  gt_name gt_country gt_region  \n",
       "0     NaN        NaN       NaN  \n",
       "1     NaN        NaN       NaN  \n",
       "2     NaN        NaN       NaN  \n",
       "3     NaN        NaN       NaN  \n",
       "4     NaN        NaN       NaN  "
      ]
     },
     "execution_count": 2,
     "metadata": {},
     "output_type": "execute_result"
    }
   ],
   "source": [
    "df.head()"
   ]
  },
  {
   "cell_type": "code",
   "execution_count": 3,
   "metadata": {},
   "outputs": [
    {
     "name": "stdout",
     "output_type": "stream",
     "text": [
      "<class 'pandas.core.frame.DataFrame'>\n",
      "RangeIndex: 556393 entries, 0 to 556392\n",
      "Data columns (total 11 columns):\n",
      " #   Column      Non-Null Count   Dtype  \n",
      "---  ------      --------------   -----  \n",
      " 0   gt_id       556393 non-null  int64  \n",
      " 1   gt_page_id  556393 non-null  int64  \n",
      " 2   gt_globe    556393 non-null  object \n",
      " 3   gt_primary  556393 non-null  int64  \n",
      " 4   gt_lat      556393 non-null  float64\n",
      " 5   gt_lon      556393 non-null  float64\n",
      " 6   gt_dim      556393 non-null  int64  \n",
      " 7   gt_type     449893 non-null  object \n",
      " 8   gt_name     72557 non-null   object \n",
      " 9   gt_country  79192 non-null   object \n",
      " 10  gt_region   3088 non-null    object \n",
      "dtypes: float64(2), int64(4), object(5)\n",
      "memory usage: 46.7+ MB\n"
     ]
    }
   ],
   "source": [
    "df.info()"
   ]
  },
  {
   "cell_type": "code",
   "execution_count": 4,
   "metadata": {},
   "outputs": [
    {
     "data": {
      "text/plain": [
       "(556393, 11)"
      ]
     },
     "execution_count": 4,
     "metadata": {},
     "output_type": "execute_result"
    }
   ],
   "source": [
    "df.shape"
   ]
  },
  {
   "cell_type": "markdown",
   "metadata": {},
   "source": [
    "Hay 556393 filas en total. Procedo a calcular columna por columna la cantidad de nulos que contienen."
   ]
  },
  {
   "cell_type": "code",
   "execution_count": 5,
   "metadata": {},
   "outputs": [],
   "source": [
    "def calcularPorcentajeNulosDeColumna(cantTotalDeNoNulos):\n",
    "    return (1 - (cantTotalDeNoNulos / 556393))"
   ]
  },
  {
   "cell_type": "markdown",
   "metadata": {},
   "source": [
    "#### Columna gt_id"
   ]
  },
  {
   "cell_type": "code",
   "execution_count": 6,
   "metadata": {},
   "outputs": [
    {
     "name": "stdout",
     "output_type": "stream",
     "text": [
      "0.0\n"
     ]
    }
   ],
   "source": [
    "cantFilasConInfo = df['gt_id'].count()\n",
    "print(calcularPorcentajeNulosDeColumna(cantFilasConInfo))"
   ]
  },
  {
   "cell_type": "markdown",
   "metadata": {},
   "source": [
    "#### Columna gt_page_id"
   ]
  },
  {
   "cell_type": "code",
   "execution_count": 7,
   "metadata": {},
   "outputs": [
    {
     "name": "stdout",
     "output_type": "stream",
     "text": [
      "0.0\n"
     ]
    }
   ],
   "source": [
    "cantFilasConInfo = df['gt_page_id'].count()\n",
    "print(calcularPorcentajeNulosDeColumna(cantFilasConInfo))"
   ]
  },
  {
   "cell_type": "markdown",
   "metadata": {},
   "source": [
    "#### Columna gt_globe"
   ]
  },
  {
   "cell_type": "code",
   "execution_count": 9,
   "metadata": {},
   "outputs": [
    {
     "name": "stdout",
     "output_type": "stream",
     "text": [
      "0.0\n"
     ]
    }
   ],
   "source": [
    "cantFilasConInfo = df['gt_globe'].count()\n",
    "print(calcularPorcentajeNulosDeColumna(cantFilasConInfo))"
   ]
  },
  {
   "cell_type": "markdown",
   "metadata": {},
   "source": [
    "#### Columna gt_primary"
   ]
  },
  {
   "cell_type": "code",
   "execution_count": 10,
   "metadata": {},
   "outputs": [
    {
     "name": "stdout",
     "output_type": "stream",
     "text": [
      "0.0\n"
     ]
    }
   ],
   "source": [
    "cantFilasConInfo = df['gt_primary'].count()\n",
    "print(calcularPorcentajeNulosDeColumna(cantFilasConInfo))"
   ]
  },
  {
   "cell_type": "markdown",
   "metadata": {},
   "source": [
    "#### Columna gt_lat"
   ]
  },
  {
   "cell_type": "code",
   "execution_count": 12,
   "metadata": {},
   "outputs": [
    {
     "name": "stdout",
     "output_type": "stream",
     "text": [
      "0.0\n"
     ]
    }
   ],
   "source": [
    "cantFilasConInfo = df['gt_lat'].count()\n",
    "print(calcularPorcentajeNulosDeColumna(cantFilasConInfo))"
   ]
  },
  {
   "cell_type": "markdown",
   "metadata": {},
   "source": [
    "#### Columna gt_lon"
   ]
  },
  {
   "cell_type": "code",
   "execution_count": 13,
   "metadata": {},
   "outputs": [
    {
     "name": "stdout",
     "output_type": "stream",
     "text": [
      "0.0\n"
     ]
    }
   ],
   "source": [
    "cantFilasConInfo = df['gt_lon'].count()\n",
    "print(calcularPorcentajeNulosDeColumna(cantFilasConInfo))"
   ]
  },
  {
   "cell_type": "markdown",
   "metadata": {},
   "source": [
    "#### Columna gt_dim"
   ]
  },
  {
   "cell_type": "code",
   "execution_count": 14,
   "metadata": {},
   "outputs": [
    {
     "name": "stdout",
     "output_type": "stream",
     "text": [
      "0.0\n"
     ]
    }
   ],
   "source": [
    "cantFilasConInfo = df['gt_dim'].count()\n",
    "print(calcularPorcentajeNulosDeColumna(cantFilasConInfo))"
   ]
  },
  {
   "cell_type": "markdown",
   "metadata": {},
   "source": [
    "#### Columna gt_type"
   ]
  },
  {
   "cell_type": "code",
   "execution_count": 16,
   "metadata": {},
   "outputs": [
    {
     "name": "stdout",
     "output_type": "stream",
     "text": [
      "0.19141146635561557\n"
     ]
    }
   ],
   "source": [
    "cantFilasConInfo = df['gt_type'].count()\n",
    "print(calcularPorcentajeNulosDeColumna(cantFilasConInfo))"
   ]
  },
  {
   "cell_type": "markdown",
   "metadata": {},
   "source": [
    "#### Columna gt_name "
   ]
  },
  {
   "cell_type": "code",
   "execution_count": 17,
   "metadata": {},
   "outputs": [
    {
     "name": "stdout",
     "output_type": "stream",
     "text": [
      "0.8695939740435268\n"
     ]
    }
   ],
   "source": [
    "cantFilasConInfo = df['gt_name'].count()\n",
    "print(calcularPorcentajeNulosDeColumna(cantFilasConInfo))"
   ]
  },
  {
   "cell_type": "markdown",
   "metadata": {},
   "source": [
    "#### Columna gt_country"
   ]
  },
  {
   "cell_type": "code",
   "execution_count": 18,
   "metadata": {},
   "outputs": [
    {
     "name": "stdout",
     "output_type": "stream",
     "text": [
      "0.8576689498250337\n"
     ]
    }
   ],
   "source": [
    "cantFilasConInfo = df['gt_country'].count()\n",
    "print(calcularPorcentajeNulosDeColumna(cantFilasConInfo))"
   ]
  },
  {
   "cell_type": "markdown",
   "metadata": {},
   "source": [
    "#### Columna gt_region"
   ]
  },
  {
   "cell_type": "code",
   "execution_count": 19,
   "metadata": {},
   "outputs": [
    {
     "name": "stdout",
     "output_type": "stream",
     "text": [
      "0.9944499661210691\n"
     ]
    }
   ],
   "source": [
    "cantFilasConInfo = df['gt_region'].count()\n",
    "print(calcularPorcentajeNulosDeColumna(cantFilasConInfo))"
   ]
  },
  {
   "cell_type": "markdown",
   "metadata": {},
   "source": [
    "## Conclusiones\n",
    "Se puede concluir que hay atributos que un geo_tag debe tener por definición, por lo que la cantidad de nulos en esa columna es cero, quedando entonces un porcentaje de nulos igual a cero. Hay atributos más prescindibles, por lo que pueden hay geo_tags que no tienen dicho atributo, comenzando por el gt_type, con porcentaje 0.1914 de nulos, siguiendo por gt_name, gt_country, gt_region, que tienen un porcentaje de nulos de 0.8696, 0.8577, 0.8577, respectivamente."
   ]
  }
 ],
 "metadata": {
  "kernelspec": {
   "display_name": "Python 3",
   "language": "python",
   "name": "python3"
  },
  "language_info": {
   "codemirror_mode": {
    "name": "ipython",
    "version": 3
   },
   "file_extension": ".py",
   "mimetype": "text/x-python",
   "name": "python",
   "nbconvert_exporter": "python",
   "pygments_lexer": "ipython3",
   "version": "3.8.5"
  },
  "varInspector": {
   "cols": {
    "lenName": 16,
    "lenType": 16,
    "lenVar": 40
   },
   "kernels_config": {
    "python": {
     "delete_cmd_postfix": "",
     "delete_cmd_prefix": "del ",
     "library": "var_list.py",
     "varRefreshCmd": "print(var_dic_list())"
    },
    "r": {
     "delete_cmd_postfix": ") ",
     "delete_cmd_prefix": "rm(",
     "library": "var_list.r",
     "varRefreshCmd": "cat(var_dic_list()) "
    }
   },
   "types_to_exclude": [
    "module",
    "function",
    "builtin_function_or_method",
    "instance",
    "_Feature"
   ],
   "window_display": false
  }
 },
 "nbformat": 4,
 "nbformat_minor": 4
}
