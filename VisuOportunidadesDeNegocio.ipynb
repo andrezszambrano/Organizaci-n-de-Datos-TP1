{
 "cells": [
  {
   "cell_type": "code",
   "execution_count": 1,
   "metadata": {},
   "outputs": [],
   "source": [
    "import seaborn as sns\n",
    "import numpy as np\n",
    "import pandas as pd\n",
    "from matplotlib import pyplot as plt\n",
    "import warnings\n",
    "warnings.filterwarnings('ignore')\n",
    "df = pd.read_csv('./Visualizaciones/Entrenamieto_ECI_2020.csv')"
   ]
  },
  {
   "cell_type": "code",
   "execution_count": 2,
   "metadata": {
    "scrolled": true
   },
   "outputs": [
    {
     "data": {
      "text/html": [
       "<div>\n",
       "<style scoped>\n",
       "    .dataframe tbody tr th:only-of-type {\n",
       "        vertical-align: middle;\n",
       "    }\n",
       "\n",
       "    .dataframe tbody tr th {\n",
       "        vertical-align: top;\n",
       "    }\n",
       "\n",
       "    .dataframe thead th {\n",
       "        text-align: right;\n",
       "    }\n",
       "</style>\n",
       "<table border=\"1\" class=\"dataframe\">\n",
       "  <thead>\n",
       "    <tr style=\"text-align: right;\">\n",
       "      <th></th>\n",
       "      <th>ID</th>\n",
       "      <th>Region</th>\n",
       "      <th>Territory</th>\n",
       "      <th>Pricing, Delivery_Terms_Quote_Appr</th>\n",
       "      <th>Pricing, Delivery_Terms_Approved</th>\n",
       "      <th>Bureaucratic_Code_0_Approval</th>\n",
       "      <th>Bureaucratic_Code_0_Approved</th>\n",
       "      <th>Submitted_for_Approval</th>\n",
       "      <th>Bureaucratic_Code</th>\n",
       "      <th>Account_Created_Date</th>\n",
       "      <th>...</th>\n",
       "      <th>Delivery_Quarter</th>\n",
       "      <th>Delivery_Year</th>\n",
       "      <th>Actual_Delivery_Date</th>\n",
       "      <th>TRF</th>\n",
       "      <th>Total_Amount_Currency</th>\n",
       "      <th>Total_Amount</th>\n",
       "      <th>Total_Taxable_Amount_Currency</th>\n",
       "      <th>Total_Taxable_Amount</th>\n",
       "      <th>Stage</th>\n",
       "      <th>Prod_Category_A</th>\n",
       "    </tr>\n",
       "  </thead>\n",
       "  <tbody>\n",
       "    <tr>\n",
       "      <th>0</th>\n",
       "      <td>27761</td>\n",
       "      <td>EMEA</td>\n",
       "      <td>None</td>\n",
       "      <td>1</td>\n",
       "      <td>1</td>\n",
       "      <td>1</td>\n",
       "      <td>1</td>\n",
       "      <td>0</td>\n",
       "      <td>Bureaucratic_Code_4</td>\n",
       "      <td>6/16/2015</td>\n",
       "      <td>...</td>\n",
       "      <td>Q2</td>\n",
       "      <td>2016</td>\n",
       "      <td>NaT</td>\n",
       "      <td>10</td>\n",
       "      <td>EUR</td>\n",
       "      <td>5272800.0</td>\n",
       "      <td>EUR</td>\n",
       "      <td>5272800.0</td>\n",
       "      <td>Closed Lost</td>\n",
       "      <td>Prod_Category_A_None</td>\n",
       "    </tr>\n",
       "    <tr>\n",
       "      <th>1</th>\n",
       "      <td>27760</td>\n",
       "      <td>EMEA</td>\n",
       "      <td>None</td>\n",
       "      <td>0</td>\n",
       "      <td>0</td>\n",
       "      <td>0</td>\n",
       "      <td>0</td>\n",
       "      <td>0</td>\n",
       "      <td>Bureaucratic_Code_4</td>\n",
       "      <td>6/16/2015</td>\n",
       "      <td>...</td>\n",
       "      <td>Q1</td>\n",
       "      <td>2016</td>\n",
       "      <td>NaT</td>\n",
       "      <td>0</td>\n",
       "      <td>EUR</td>\n",
       "      <td>48230.0</td>\n",
       "      <td>EUR</td>\n",
       "      <td>48230.0</td>\n",
       "      <td>Closed Won</td>\n",
       "      <td>Prod_Category_A_None</td>\n",
       "    </tr>\n",
       "    <tr>\n",
       "      <th>2</th>\n",
       "      <td>27446</td>\n",
       "      <td>Americas</td>\n",
       "      <td>NW America</td>\n",
       "      <td>0</td>\n",
       "      <td>0</td>\n",
       "      <td>0</td>\n",
       "      <td>0</td>\n",
       "      <td>0</td>\n",
       "      <td>Bureaucratic_Code_4</td>\n",
       "      <td>4/21/2015</td>\n",
       "      <td>...</td>\n",
       "      <td>Q1</td>\n",
       "      <td>2016</td>\n",
       "      <td>NaT</td>\n",
       "      <td>0</td>\n",
       "      <td>USD</td>\n",
       "      <td>83865.6</td>\n",
       "      <td>USD</td>\n",
       "      <td>83865.6</td>\n",
       "      <td>Closed Won</td>\n",
       "      <td>Prod_Category_A_None</td>\n",
       "    </tr>\n",
       "    <tr>\n",
       "      <th>3</th>\n",
       "      <td>16808</td>\n",
       "      <td>Americas</td>\n",
       "      <td>NW America</td>\n",
       "      <td>1</td>\n",
       "      <td>0</td>\n",
       "      <td>1</td>\n",
       "      <td>0</td>\n",
       "      <td>0</td>\n",
       "      <td>Bureaucratic_Code_5</td>\n",
       "      <td>7/27/2013</td>\n",
       "      <td>...</td>\n",
       "      <td>Q1</td>\n",
       "      <td>2018</td>\n",
       "      <td>NaT</td>\n",
       "      <td>14</td>\n",
       "      <td>USD</td>\n",
       "      <td>7421881.5</td>\n",
       "      <td>USD</td>\n",
       "      <td>7421881.5</td>\n",
       "      <td>Closed Lost</td>\n",
       "      <td>Prod_Category_A_None</td>\n",
       "    </tr>\n",
       "    <tr>\n",
       "      <th>4</th>\n",
       "      <td>16805</td>\n",
       "      <td>Americas</td>\n",
       "      <td>NW America</td>\n",
       "      <td>1</td>\n",
       "      <td>0</td>\n",
       "      <td>1</td>\n",
       "      <td>0</td>\n",
       "      <td>0</td>\n",
       "      <td>Bureaucratic_Code_5</td>\n",
       "      <td>7/27/2013</td>\n",
       "      <td>...</td>\n",
       "      <td>Q1</td>\n",
       "      <td>2018</td>\n",
       "      <td>NaT</td>\n",
       "      <td>25</td>\n",
       "      <td>USD</td>\n",
       "      <td>13357192.5</td>\n",
       "      <td>USD</td>\n",
       "      <td>13357192.5</td>\n",
       "      <td>Closed Lost</td>\n",
       "      <td>Prod_Category_A_None</td>\n",
       "    </tr>\n",
       "  </tbody>\n",
       "</table>\n",
       "<p>5 rows × 52 columns</p>\n",
       "</div>"
      ],
      "text/plain": [
       "      ID    Region   Territory  Pricing, Delivery_Terms_Quote_Appr  \\\n",
       "0  27761      EMEA        None                                   1   \n",
       "1  27760      EMEA        None                                   0   \n",
       "2  27446  Americas  NW America                                   0   \n",
       "3  16808  Americas  NW America                                   1   \n",
       "4  16805  Americas  NW America                                   1   \n",
       "\n",
       "   Pricing, Delivery_Terms_Approved  Bureaucratic_Code_0_Approval  \\\n",
       "0                                 1                             1   \n",
       "1                                 0                             0   \n",
       "2                                 0                             0   \n",
       "3                                 0                             1   \n",
       "4                                 0                             1   \n",
       "\n",
       "   Bureaucratic_Code_0_Approved  Submitted_for_Approval    Bureaucratic_Code  \\\n",
       "0                             1                       0  Bureaucratic_Code_4   \n",
       "1                             0                       0  Bureaucratic_Code_4   \n",
       "2                             0                       0  Bureaucratic_Code_4   \n",
       "3                             0                       0  Bureaucratic_Code_5   \n",
       "4                             0                       0  Bureaucratic_Code_5   \n",
       "\n",
       "  Account_Created_Date  ... Delivery_Quarter Delivery_Year  \\\n",
       "0            6/16/2015  ...               Q2          2016   \n",
       "1            6/16/2015  ...               Q1          2016   \n",
       "2            4/21/2015  ...               Q1          2016   \n",
       "3            7/27/2013  ...               Q1          2018   \n",
       "4            7/27/2013  ...               Q1          2018   \n",
       "\n",
       "  Actual_Delivery_Date TRF  Total_Amount_Currency Total_Amount  \\\n",
       "0                  NaT  10                    EUR    5272800.0   \n",
       "1                  NaT   0                    EUR      48230.0   \n",
       "2                  NaT   0                    USD      83865.6   \n",
       "3                  NaT  14                    USD    7421881.5   \n",
       "4                  NaT  25                    USD   13357192.5   \n",
       "\n",
       "  Total_Taxable_Amount_Currency Total_Taxable_Amount        Stage  \\\n",
       "0                           EUR            5272800.0  Closed Lost   \n",
       "1                           EUR              48230.0   Closed Won   \n",
       "2                           USD              83865.6   Closed Won   \n",
       "3                           USD            7421881.5  Closed Lost   \n",
       "4                           USD           13357192.5  Closed Lost   \n",
       "\n",
       "        Prod_Category_A  \n",
       "0  Prod_Category_A_None  \n",
       "1  Prod_Category_A_None  \n",
       "2  Prod_Category_A_None  \n",
       "3  Prod_Category_A_None  \n",
       "4  Prod_Category_A_None  \n",
       "\n",
       "[5 rows x 52 columns]"
      ]
     },
     "execution_count": 2,
     "metadata": {},
     "output_type": "execute_result"
    }
   ],
   "source": [
    "df.head()"
   ]
  },
  {
   "cell_type": "code",
   "execution_count": 3,
   "metadata": {},
   "outputs": [
    {
     "data": {
      "text/plain": [
       "Closed Won       9533\n",
       "Closed Lost      7350\n",
       "Proposal           35\n",
       "Negotiation        18\n",
       "Qualification      11\n",
       "Name: Stage, dtype: int64"
      ]
     },
     "execution_count": 3,
     "metadata": {},
     "output_type": "execute_result"
    }
   ],
   "source": [
    "df[\"Stage\"].value_counts()"
   ]
  },
  {
   "cell_type": "code",
   "execution_count": 4,
   "metadata": {
    "scrolled": true
   },
   "outputs": [
    {
     "data": {
      "text/html": [
       "<div>\n",
       "<style scoped>\n",
       "    .dataframe tbody tr th:only-of-type {\n",
       "        vertical-align: middle;\n",
       "    }\n",
       "\n",
       "    .dataframe tbody tr th {\n",
       "        vertical-align: top;\n",
       "    }\n",
       "\n",
       "    .dataframe thead th {\n",
       "        text-align: right;\n",
       "    }\n",
       "</style>\n",
       "<table border=\"1\" class=\"dataframe\">\n",
       "  <thead>\n",
       "    <tr style=\"text-align: right;\">\n",
       "      <th></th>\n",
       "      <th>ID</th>\n",
       "      <th>Region</th>\n",
       "      <th>Territory</th>\n",
       "      <th>Pricing, Delivery_Terms_Quote_Appr</th>\n",
       "      <th>Pricing, Delivery_Terms_Approved</th>\n",
       "      <th>Bureaucratic_Code_0_Approval</th>\n",
       "      <th>Bureaucratic_Code_0_Approved</th>\n",
       "      <th>Submitted_for_Approval</th>\n",
       "      <th>Bureaucratic_Code</th>\n",
       "      <th>Account_Created_Date</th>\n",
       "      <th>...</th>\n",
       "      <th>Delivery_Quarter</th>\n",
       "      <th>Delivery_Year</th>\n",
       "      <th>Actual_Delivery_Date</th>\n",
       "      <th>TRF</th>\n",
       "      <th>Total_Amount_Currency</th>\n",
       "      <th>Total_Amount</th>\n",
       "      <th>Total_Taxable_Amount_Currency</th>\n",
       "      <th>Total_Taxable_Amount</th>\n",
       "      <th>Stage</th>\n",
       "      <th>Prod_Category_A</th>\n",
       "    </tr>\n",
       "  </thead>\n",
       "  <tbody>\n",
       "    <tr>\n",
       "      <th>0</th>\n",
       "      <td>27761</td>\n",
       "      <td>EMEA</td>\n",
       "      <td>None</td>\n",
       "      <td>1</td>\n",
       "      <td>1</td>\n",
       "      <td>1</td>\n",
       "      <td>1</td>\n",
       "      <td>0</td>\n",
       "      <td>Bureaucratic_Code_4</td>\n",
       "      <td>6/16/2015</td>\n",
       "      <td>...</td>\n",
       "      <td>Q2</td>\n",
       "      <td>2016</td>\n",
       "      <td>NaT</td>\n",
       "      <td>10</td>\n",
       "      <td>EUR</td>\n",
       "      <td>5272800.00</td>\n",
       "      <td>EUR</td>\n",
       "      <td>5272800.0</td>\n",
       "      <td>Closed Lost</td>\n",
       "      <td>Prod_Category_A_None</td>\n",
       "    </tr>\n",
       "    <tr>\n",
       "      <th>1</th>\n",
       "      <td>27760</td>\n",
       "      <td>EMEA</td>\n",
       "      <td>None</td>\n",
       "      <td>0</td>\n",
       "      <td>0</td>\n",
       "      <td>0</td>\n",
       "      <td>0</td>\n",
       "      <td>0</td>\n",
       "      <td>Bureaucratic_Code_4</td>\n",
       "      <td>6/16/2015</td>\n",
       "      <td>...</td>\n",
       "      <td>Q1</td>\n",
       "      <td>2016</td>\n",
       "      <td>NaT</td>\n",
       "      <td>0</td>\n",
       "      <td>EUR</td>\n",
       "      <td>48230.00</td>\n",
       "      <td>EUR</td>\n",
       "      <td>48230.0</td>\n",
       "      <td>Closed Won</td>\n",
       "      <td>Prod_Category_A_None</td>\n",
       "    </tr>\n",
       "    <tr>\n",
       "      <th>2</th>\n",
       "      <td>27446</td>\n",
       "      <td>Americas</td>\n",
       "      <td>NW America</td>\n",
       "      <td>0</td>\n",
       "      <td>0</td>\n",
       "      <td>0</td>\n",
       "      <td>0</td>\n",
       "      <td>0</td>\n",
       "      <td>Bureaucratic_Code_4</td>\n",
       "      <td>4/21/2015</td>\n",
       "      <td>...</td>\n",
       "      <td>Q1</td>\n",
       "      <td>2016</td>\n",
       "      <td>NaT</td>\n",
       "      <td>0</td>\n",
       "      <td>USD</td>\n",
       "      <td>83865.60</td>\n",
       "      <td>USD</td>\n",
       "      <td>83865.6</td>\n",
       "      <td>Closed Won</td>\n",
       "      <td>Prod_Category_A_None</td>\n",
       "    </tr>\n",
       "    <tr>\n",
       "      <th>3</th>\n",
       "      <td>16808</td>\n",
       "      <td>Americas</td>\n",
       "      <td>NW America</td>\n",
       "      <td>1</td>\n",
       "      <td>0</td>\n",
       "      <td>1</td>\n",
       "      <td>0</td>\n",
       "      <td>0</td>\n",
       "      <td>Bureaucratic_Code_5</td>\n",
       "      <td>7/27/2013</td>\n",
       "      <td>...</td>\n",
       "      <td>Q1</td>\n",
       "      <td>2018</td>\n",
       "      <td>NaT</td>\n",
       "      <td>14</td>\n",
       "      <td>USD</td>\n",
       "      <td>7421881.50</td>\n",
       "      <td>USD</td>\n",
       "      <td>7421881.5</td>\n",
       "      <td>Closed Lost</td>\n",
       "      <td>Prod_Category_A_None</td>\n",
       "    </tr>\n",
       "    <tr>\n",
       "      <th>4</th>\n",
       "      <td>16805</td>\n",
       "      <td>Americas</td>\n",
       "      <td>NW America</td>\n",
       "      <td>1</td>\n",
       "      <td>0</td>\n",
       "      <td>1</td>\n",
       "      <td>0</td>\n",
       "      <td>0</td>\n",
       "      <td>Bureaucratic_Code_5</td>\n",
       "      <td>7/27/2013</td>\n",
       "      <td>...</td>\n",
       "      <td>Q1</td>\n",
       "      <td>2018</td>\n",
       "      <td>NaT</td>\n",
       "      <td>25</td>\n",
       "      <td>USD</td>\n",
       "      <td>13357192.50</td>\n",
       "      <td>USD</td>\n",
       "      <td>13357192.5</td>\n",
       "      <td>Closed Lost</td>\n",
       "      <td>Prod_Category_A_None</td>\n",
       "    </tr>\n",
       "    <tr>\n",
       "      <th>...</th>\n",
       "      <td>...</td>\n",
       "      <td>...</td>\n",
       "      <td>...</td>\n",
       "      <td>...</td>\n",
       "      <td>...</td>\n",
       "      <td>...</td>\n",
       "      <td>...</td>\n",
       "      <td>...</td>\n",
       "      <td>...</td>\n",
       "      <td>...</td>\n",
       "      <td>...</td>\n",
       "      <td>...</td>\n",
       "      <td>...</td>\n",
       "      <td>...</td>\n",
       "      <td>...</td>\n",
       "      <td>...</td>\n",
       "      <td>...</td>\n",
       "      <td>...</td>\n",
       "      <td>...</td>\n",
       "      <td>...</td>\n",
       "      <td>...</td>\n",
       "    </tr>\n",
       "    <tr>\n",
       "      <th>16942</th>\n",
       "      <td>8781</td>\n",
       "      <td>EMEA</td>\n",
       "      <td>Austria</td>\n",
       "      <td>1</td>\n",
       "      <td>1</td>\n",
       "      <td>1</td>\n",
       "      <td>1</td>\n",
       "      <td>0</td>\n",
       "      <td>Bureaucratic_Code_4</td>\n",
       "      <td>1/15/2016</td>\n",
       "      <td>...</td>\n",
       "      <td>Q1</td>\n",
       "      <td>2016</td>\n",
       "      <td>NaT</td>\n",
       "      <td>0</td>\n",
       "      <td>EUR</td>\n",
       "      <td>103350.00</td>\n",
       "      <td>EUR</td>\n",
       "      <td>299715.0</td>\n",
       "      <td>Closed Won</td>\n",
       "      <td>Prod_Category_A_None</td>\n",
       "    </tr>\n",
       "    <tr>\n",
       "      <th>16943</th>\n",
       "      <td>8786</td>\n",
       "      <td>EMEA</td>\n",
       "      <td>Austria</td>\n",
       "      <td>1</td>\n",
       "      <td>1</td>\n",
       "      <td>1</td>\n",
       "      <td>1</td>\n",
       "      <td>0</td>\n",
       "      <td>Bureaucratic_Code_4</td>\n",
       "      <td>1/15/2016</td>\n",
       "      <td>...</td>\n",
       "      <td>Q2</td>\n",
       "      <td>2016</td>\n",
       "      <td>NaT</td>\n",
       "      <td>0</td>\n",
       "      <td>EUR</td>\n",
       "      <td>93015.00</td>\n",
       "      <td>EUR</td>\n",
       "      <td>299715.0</td>\n",
       "      <td>Closed Won</td>\n",
       "      <td>Prod_Category_A_None</td>\n",
       "    </tr>\n",
       "    <tr>\n",
       "      <th>16944</th>\n",
       "      <td>8792</td>\n",
       "      <td>EMEA</td>\n",
       "      <td>Austria</td>\n",
       "      <td>1</td>\n",
       "      <td>1</td>\n",
       "      <td>1</td>\n",
       "      <td>1</td>\n",
       "      <td>0</td>\n",
       "      <td>Bureaucratic_Code_4</td>\n",
       "      <td>1/15/2016</td>\n",
       "      <td>...</td>\n",
       "      <td>Q1</td>\n",
       "      <td>2016</td>\n",
       "      <td>NaT</td>\n",
       "      <td>0</td>\n",
       "      <td>EUR</td>\n",
       "      <td>103350.00</td>\n",
       "      <td>EUR</td>\n",
       "      <td>299715.0</td>\n",
       "      <td>Closed Won</td>\n",
       "      <td>Prod_Category_A_None</td>\n",
       "    </tr>\n",
       "    <tr>\n",
       "      <th>16945</th>\n",
       "      <td>28561</td>\n",
       "      <td>Americas</td>\n",
       "      <td>NE America</td>\n",
       "      <td>1</td>\n",
       "      <td>1</td>\n",
       "      <td>1</td>\n",
       "      <td>1</td>\n",
       "      <td>0</td>\n",
       "      <td>Bureaucratic_Code_4</td>\n",
       "      <td>10/20/2015</td>\n",
       "      <td>...</td>\n",
       "      <td>Q2</td>\n",
       "      <td>2016</td>\n",
       "      <td>NaT</td>\n",
       "      <td>4</td>\n",
       "      <td>USD</td>\n",
       "      <td>2346796.88</td>\n",
       "      <td>USD</td>\n",
       "      <td>0.0</td>\n",
       "      <td>Closed Lost</td>\n",
       "      <td>Prod_Category_A_None</td>\n",
       "    </tr>\n",
       "    <tr>\n",
       "      <th>16946</th>\n",
       "      <td>28318</td>\n",
       "      <td>Americas</td>\n",
       "      <td>NE America</td>\n",
       "      <td>1</td>\n",
       "      <td>1</td>\n",
       "      <td>1</td>\n",
       "      <td>1</td>\n",
       "      <td>0</td>\n",
       "      <td>Bureaucratic_Code_4</td>\n",
       "      <td>9/3/2015</td>\n",
       "      <td>...</td>\n",
       "      <td>Q3</td>\n",
       "      <td>2016</td>\n",
       "      <td>NaT</td>\n",
       "      <td>40</td>\n",
       "      <td>USD</td>\n",
       "      <td>25603200.00</td>\n",
       "      <td>USD</td>\n",
       "      <td>0.0</td>\n",
       "      <td>Closed Lost</td>\n",
       "      <td>Prod_Category_A_None</td>\n",
       "    </tr>\n",
       "  </tbody>\n",
       "</table>\n",
       "<p>16947 rows × 52 columns</p>\n",
       "</div>"
      ],
      "text/plain": [
       "          ID    Region   Territory  Pricing, Delivery_Terms_Quote_Appr  \\\n",
       "0      27761      EMEA        None                                   1   \n",
       "1      27760      EMEA        None                                   0   \n",
       "2      27446  Americas  NW America                                   0   \n",
       "3      16808  Americas  NW America                                   1   \n",
       "4      16805  Americas  NW America                                   1   \n",
       "...      ...       ...         ...                                 ...   \n",
       "16942   8781      EMEA     Austria                                   1   \n",
       "16943   8786      EMEA     Austria                                   1   \n",
       "16944   8792      EMEA     Austria                                   1   \n",
       "16945  28561  Americas  NE America                                   1   \n",
       "16946  28318  Americas  NE America                                   1   \n",
       "\n",
       "       Pricing, Delivery_Terms_Approved  Bureaucratic_Code_0_Approval  \\\n",
       "0                                     1                             1   \n",
       "1                                     0                             0   \n",
       "2                                     0                             0   \n",
       "3                                     0                             1   \n",
       "4                                     0                             1   \n",
       "...                                 ...                           ...   \n",
       "16942                                 1                             1   \n",
       "16943                                 1                             1   \n",
       "16944                                 1                             1   \n",
       "16945                                 1                             1   \n",
       "16946                                 1                             1   \n",
       "\n",
       "       Bureaucratic_Code_0_Approved  Submitted_for_Approval  \\\n",
       "0                                 1                       0   \n",
       "1                                 0                       0   \n",
       "2                                 0                       0   \n",
       "3                                 0                       0   \n",
       "4                                 0                       0   \n",
       "...                             ...                     ...   \n",
       "16942                             1                       0   \n",
       "16943                             1                       0   \n",
       "16944                             1                       0   \n",
       "16945                             1                       0   \n",
       "16946                             1                       0   \n",
       "\n",
       "         Bureaucratic_Code Account_Created_Date  ... Delivery_Quarter  \\\n",
       "0      Bureaucratic_Code_4            6/16/2015  ...               Q2   \n",
       "1      Bureaucratic_Code_4            6/16/2015  ...               Q1   \n",
       "2      Bureaucratic_Code_4            4/21/2015  ...               Q1   \n",
       "3      Bureaucratic_Code_5            7/27/2013  ...               Q1   \n",
       "4      Bureaucratic_Code_5            7/27/2013  ...               Q1   \n",
       "...                    ...                  ...  ...              ...   \n",
       "16942  Bureaucratic_Code_4            1/15/2016  ...               Q1   \n",
       "16943  Bureaucratic_Code_4            1/15/2016  ...               Q2   \n",
       "16944  Bureaucratic_Code_4            1/15/2016  ...               Q1   \n",
       "16945  Bureaucratic_Code_4           10/20/2015  ...               Q2   \n",
       "16946  Bureaucratic_Code_4             9/3/2015  ...               Q3   \n",
       "\n",
       "      Delivery_Year Actual_Delivery_Date TRF  Total_Amount_Currency  \\\n",
       "0              2016                  NaT  10                    EUR   \n",
       "1              2016                  NaT   0                    EUR   \n",
       "2              2016                  NaT   0                    USD   \n",
       "3              2018                  NaT  14                    USD   \n",
       "4              2018                  NaT  25                    USD   \n",
       "...             ...                  ...  ..                    ...   \n",
       "16942          2016                  NaT   0                    EUR   \n",
       "16943          2016                  NaT   0                    EUR   \n",
       "16944          2016                  NaT   0                    EUR   \n",
       "16945          2016                  NaT   4                    USD   \n",
       "16946          2016                  NaT  40                    USD   \n",
       "\n",
       "      Total_Amount Total_Taxable_Amount_Currency Total_Taxable_Amount  \\\n",
       "0       5272800.00                           EUR            5272800.0   \n",
       "1         48230.00                           EUR              48230.0   \n",
       "2         83865.60                           USD              83865.6   \n",
       "3       7421881.50                           USD            7421881.5   \n",
       "4      13357192.50                           USD           13357192.5   \n",
       "...            ...                           ...                  ...   \n",
       "16942    103350.00                           EUR             299715.0   \n",
       "16943     93015.00                           EUR             299715.0   \n",
       "16944    103350.00                           EUR             299715.0   \n",
       "16945   2346796.88                           USD                  0.0   \n",
       "16946  25603200.00                           USD                  0.0   \n",
       "\n",
       "             Stage       Prod_Category_A  \n",
       "0      Closed Lost  Prod_Category_A_None  \n",
       "1       Closed Won  Prod_Category_A_None  \n",
       "2       Closed Won  Prod_Category_A_None  \n",
       "3      Closed Lost  Prod_Category_A_None  \n",
       "4      Closed Lost  Prod_Category_A_None  \n",
       "...            ...                   ...  \n",
       "16942   Closed Won  Prod_Category_A_None  \n",
       "16943   Closed Won  Prod_Category_A_None  \n",
       "16944   Closed Won  Prod_Category_A_None  \n",
       "16945  Closed Lost  Prod_Category_A_None  \n",
       "16946  Closed Lost  Prod_Category_A_None  \n",
       "\n",
       "[16947 rows x 52 columns]"
      ]
     },
     "execution_count": 4,
     "metadata": {},
     "output_type": "execute_result"
    }
   ],
   "source": [
    "df"
   ]
  },
  {
   "cell_type": "code",
   "execution_count": 5,
   "metadata": {},
   "outputs": [
    {
     "data": {
      "text/plain": [
       "Q2    4443\n",
       "Q1    4317\n",
       "Q4    4144\n",
       "Q3    4043\n",
       "Name: Delivery_Quarter, dtype: int64"
      ]
     },
     "execution_count": 5,
     "metadata": {},
     "output_type": "execute_result"
    }
   ],
   "source": [
    "df[\"Delivery_Quarter\"].value_counts()"
   ]
  },
  {
   "cell_type": "code",
   "execution_count": 6,
   "metadata": {},
   "outputs": [
    {
     "data": {
      "text/plain": [
       "2017    6318\n",
       "2018    5830\n",
       "2016    4371\n",
       "2019     414\n",
       "2020      14\n",
       "Name: Delivery_Year, dtype: int64"
      ]
     },
     "execution_count": 6,
     "metadata": {},
     "output_type": "execute_result"
    }
   ],
   "source": [
    "df[\"Delivery_Year\"].value_counts()"
   ]
  },
  {
   "cell_type": "code",
   "execution_count": 7,
   "metadata": {},
   "outputs": [
    {
     "data": {
      "text/plain": [
       "Account_Name_1888    2124\n",
       "Account_Name_1836     886\n",
       "Account_Name_25       752\n",
       "Account_Name_1991     586\n",
       "Account_Name_1642     397\n",
       "                     ... \n",
       "Account_Name_1742       1\n",
       "Account_Name_1174       1\n",
       "Account_Name_928        1\n",
       "Account_Name_590        1\n",
       "Account_Name_1014       1\n",
       "Name: Account_Name, Length: 1635, dtype: int64"
      ]
     },
     "execution_count": 7,
     "metadata": {},
     "output_type": "execute_result"
    }
   ],
   "source": [
    "df[\"Account_Name\"].value_counts()"
   ]
  },
  {
   "cell_type": "code",
   "execution_count": 8,
   "metadata": {},
   "outputs": [],
   "source": [
    "dfCuenta1888 = df.loc[df[\"Account_Name\"] == \"Account_Name_1836\", :]"
   ]
  },
  {
   "cell_type": "code",
   "execution_count": 9,
   "metadata": {},
   "outputs": [
    {
     "data": {
      "text/plain": [
       "Closed Won     795\n",
       "Closed Lost     91\n",
       "Name: Stage, dtype: int64"
      ]
     },
     "execution_count": 9,
     "metadata": {},
     "output_type": "execute_result"
    }
   ],
   "source": [
    "dfCuenta1888[\"Stage\"].value_counts()"
   ]
  },
  {
   "cell_type": "code",
   "execution_count": 10,
   "metadata": {},
   "outputs": [
    {
     "data": {
      "text/plain": [
       "Closed Won       9533\n",
       "Closed Lost      7350\n",
       "Proposal           35\n",
       "Negotiation        18\n",
       "Qualification      11\n",
       "Name: Stage, dtype: int64"
      ]
     },
     "execution_count": 10,
     "metadata": {},
     "output_type": "execute_result"
    }
   ],
   "source": [
    "df[\"Stage\"].value_counts()"
   ]
  },
  {
   "cell_type": "code",
   "execution_count": 11,
   "metadata": {},
   "outputs": [
    {
     "data": {
      "text/plain": [
       "Japan          4892\n",
       "EMEA           4664\n",
       "Americas       3945\n",
       "APAC           3262\n",
       "Middle East     184\n",
       "Name: Region, dtype: int64"
      ]
     },
     "execution_count": 11,
     "metadata": {},
     "output_type": "execute_result"
    }
   ],
   "source": [
    "df[\"Region\"].value_counts()"
   ]
  },
  {
   "cell_type": "code",
   "execution_count": 12,
   "metadata": {},
   "outputs": [
    {
     "data": {
      "text/plain": [
       "Region       Territory   \n",
       "APAC         Australia       1208\n",
       "             India            809\n",
       "             Singapore        441\n",
       "             China (PRC)      218\n",
       "             Thailand         173\n",
       "                             ... \n",
       "Middle East  Saudi Arabia       6\n",
       "             Oman               4\n",
       "             Kuwait             3\n",
       "             Lebanon            2\n",
       "             UAE (Others)       2\n",
       "Name: Territory, Length: 85, dtype: int64"
      ]
     },
     "execution_count": 12,
     "metadata": {},
     "output_type": "execute_result"
    }
   ],
   "source": [
    "df.groupby(\"Region\")[\"Territory\"].value_counts()"
   ]
  },
  {
   "cell_type": "code",
   "execution_count": 13,
   "metadata": {},
   "outputs": [],
   "source": [
    "dfMiddleEast = df.loc[df[\"Region\"] == \"Middle East\", :]"
   ]
  },
  {
   "cell_type": "code",
   "execution_count": 14,
   "metadata": {},
   "outputs": [
    {
     "data": {
      "text/plain": [
       "Jordan          101\n",
       "None             30\n",
       "UAE (Dubai)      19\n",
       "KSA              11\n",
       "Saudi Arabia      6\n",
       "Pakistan          6\n",
       "Oman              4\n",
       "Kuwait            3\n",
       "Lebanon           2\n",
       "UAE (Others)      2\n",
       "Name: Territory, dtype: int64"
      ]
     },
     "execution_count": 14,
     "metadata": {},
     "output_type": "execute_result"
    }
   ],
   "source": [
    "dfMiddleEast[\"Territory\"].value_counts()"
   ]
  },
  {
   "cell_type": "code",
   "execution_count": 15,
   "metadata": {},
   "outputs": [],
   "source": [
    "df['Region'] = df['Region'].replace({'Middle East':'EMEA'})"
   ]
  },
  {
   "cell_type": "code",
   "execution_count": 16,
   "metadata": {},
   "outputs": [
    {
     "data": {
      "text/plain": [
       "Japan       4892\n",
       "EMEA        4848\n",
       "Americas    3945\n",
       "APAC        3262\n",
       "Name: Region, dtype: int64"
      ]
     },
     "execution_count": 16,
     "metadata": {},
     "output_type": "execute_result"
    }
   ],
   "source": [
    "df['Region'].value_counts()"
   ]
  },
  {
   "cell_type": "code",
   "execution_count": 17,
   "metadata": {},
   "outputs": [],
   "source": [
    "dfJapan = df.loc[df[\"Region\"] == \"Japan\", :]\n",
    "dfEMEA = df.loc[df[\"Region\"] == \"EMEA\", :]\n",
    "dfAmericas = df.loc[df[\"Region\"] == \"Americas\", :]\n",
    "dfAPAC = df.loc[df[\"Region\"] == \"APAC\", :]"
   ]
  },
  {
   "cell_type": "code",
   "execution_count": 18,
   "metadata": {},
   "outputs": [
    {
     "data": {
      "text/plain": [
       "Germany                 1682\n",
       "Netherlands              533\n",
       "France                   449\n",
       "United Kingdom           313\n",
       "Belgium                  285\n",
       "Italy                    283\n",
       "Spain                    268\n",
       "None                     217\n",
       "Austria                  145\n",
       "Jordan                   102\n",
       "Luxembourg                70\n",
       "Portugal                  66\n",
       "Poland                    60\n",
       "Cyprus                    44\n",
       "Denmark                   38\n",
       "UAE (Dubai)               31\n",
       "Turkey                    29\n",
       "Hungary                   28\n",
       "Switzerland               21\n",
       "Norway                    20\n",
       "KSA                       13\n",
       "Sweden                    12\n",
       "SE America                10\n",
       "Greece                     9\n",
       "Ireland                    9\n",
       "Central America            9\n",
       "South America              9\n",
       "Estonia                    8\n",
       "Kazakhstan                 7\n",
       "Pakistan                   6\n",
       "Malta                      6\n",
       "Macedonia                  6\n",
       "Saudi Arabia               6\n",
       "Tunisia                    5\n",
       "Bulgaria                   5\n",
       "Ukraine                    5\n",
       "Kuwait                     4\n",
       "Oman                       4\n",
       "Bosnia & Herzegovina       4\n",
       "Belarus                    4\n",
       "Morocco                    3\n",
       "Albania                    2\n",
       "SW America                 2\n",
       "Romania                    2\n",
       "Armenia                    2\n",
       "UAE (Others)               2\n",
       "Kosovo                     2\n",
       "Lebanon                    2\n",
       "Monaco                     1\n",
       "Egypt                      1\n",
       "Czech Republic             1\n",
       "Croatia                    1\n",
       "Slovenia                   1\n",
       "Georgia                    1\n",
       "Name: Territory, dtype: int64"
      ]
     },
     "execution_count": 18,
     "metadata": {},
     "output_type": "execute_result"
    }
   ],
   "source": [
    "dfEMEA[\"Territory\"].value_counts()"
   ]
  },
  {
   "cell_type": "code",
   "execution_count": 19,
   "metadata": {},
   "outputs": [
    {
     "data": {
      "text/plain": [
       "Closed Won       3323\n",
       "Closed Lost      1546\n",
       "Proposal           14\n",
       "Qualification       8\n",
       "Negotiation         1\n",
       "Name: Stage, dtype: int64"
      ]
     },
     "execution_count": 19,
     "metadata": {},
     "output_type": "execute_result"
    }
   ],
   "source": [
    "dfJapan[\"Stage\"].value_counts()"
   ]
  },
  {
   "cell_type": "code",
   "execution_count": 20,
   "metadata": {},
   "outputs": [
    {
     "data": {
      "text/plain": [
       "Closed Won     2521\n",
       "Closed Lost    2309\n",
       "Negotiation       9\n",
       "Proposal          9\n",
       "Name: Stage, dtype: int64"
      ]
     },
     "execution_count": 20,
     "metadata": {},
     "output_type": "execute_result"
    }
   ],
   "source": [
    "dfEMEA[\"Stage\"].value_counts()"
   ]
  },
  {
   "cell_type": "code",
   "execution_count": 21,
   "metadata": {},
   "outputs": [
    {
     "data": {
      "text/plain": [
       "Closed Lost    2140\n",
       "Closed Won     1793\n",
       "Negotiation       8\n",
       "Proposal          4\n",
       "Name: Stage, dtype: int64"
      ]
     },
     "execution_count": 21,
     "metadata": {},
     "output_type": "execute_result"
    }
   ],
   "source": [
    "dfAmericas[\"Stage\"].value_counts()"
   ]
  },
  {
   "cell_type": "code",
   "execution_count": 22,
   "metadata": {},
   "outputs": [
    {
     "data": {
      "text/plain": [
       "Closed Won       1896\n",
       "Closed Lost      1355\n",
       "Proposal            8\n",
       "Qualification       3\n",
       "Name: Stage, dtype: int64"
      ]
     },
     "execution_count": 22,
     "metadata": {},
     "output_type": "execute_result"
    }
   ],
   "source": [
    "dfAPAC[\"Stage\"].value_counts()"
   ]
  },
  {
   "cell_type": "code",
   "execution_count": 23,
   "metadata": {},
   "outputs": [],
   "source": [
    "df = df.loc[(df[\"Stage\"] == 'Closed Won') | (df[\"Stage\"] == 'Closed Lost'), :]"
   ]
  },
  {
   "cell_type": "code",
   "execution_count": 24,
   "metadata": {},
   "outputs": [
    {
     "data": {
      "text/html": [
       "<div>\n",
       "<style scoped>\n",
       "    .dataframe tbody tr th:only-of-type {\n",
       "        vertical-align: middle;\n",
       "    }\n",
       "\n",
       "    .dataframe tbody tr th {\n",
       "        vertical-align: top;\n",
       "    }\n",
       "\n",
       "    .dataframe thead th {\n",
       "        text-align: right;\n",
       "    }\n",
       "</style>\n",
       "<table border=\"1\" class=\"dataframe\">\n",
       "  <thead>\n",
       "    <tr style=\"text-align: right;\">\n",
       "      <th></th>\n",
       "      <th>ID</th>\n",
       "      <th>Region</th>\n",
       "      <th>Territory</th>\n",
       "      <th>Pricing, Delivery_Terms_Quote_Appr</th>\n",
       "      <th>Pricing, Delivery_Terms_Approved</th>\n",
       "      <th>Bureaucratic_Code_0_Approval</th>\n",
       "      <th>Bureaucratic_Code_0_Approved</th>\n",
       "      <th>Submitted_for_Approval</th>\n",
       "      <th>Bureaucratic_Code</th>\n",
       "      <th>Account_Created_Date</th>\n",
       "      <th>...</th>\n",
       "      <th>Delivery_Quarter</th>\n",
       "      <th>Delivery_Year</th>\n",
       "      <th>Actual_Delivery_Date</th>\n",
       "      <th>TRF</th>\n",
       "      <th>Total_Amount_Currency</th>\n",
       "      <th>Total_Amount</th>\n",
       "      <th>Total_Taxable_Amount_Currency</th>\n",
       "      <th>Total_Taxable_Amount</th>\n",
       "      <th>Stage</th>\n",
       "      <th>Prod_Category_A</th>\n",
       "    </tr>\n",
       "  </thead>\n",
       "  <tbody>\n",
       "    <tr>\n",
       "      <th>0</th>\n",
       "      <td>27761</td>\n",
       "      <td>EMEA</td>\n",
       "      <td>None</td>\n",
       "      <td>1</td>\n",
       "      <td>1</td>\n",
       "      <td>1</td>\n",
       "      <td>1</td>\n",
       "      <td>0</td>\n",
       "      <td>Bureaucratic_Code_4</td>\n",
       "      <td>6/16/2015</td>\n",
       "      <td>...</td>\n",
       "      <td>Q2</td>\n",
       "      <td>2016</td>\n",
       "      <td>NaT</td>\n",
       "      <td>10</td>\n",
       "      <td>EUR</td>\n",
       "      <td>5272800.00</td>\n",
       "      <td>EUR</td>\n",
       "      <td>5272800.0</td>\n",
       "      <td>Closed Lost</td>\n",
       "      <td>Prod_Category_A_None</td>\n",
       "    </tr>\n",
       "    <tr>\n",
       "      <th>1</th>\n",
       "      <td>27760</td>\n",
       "      <td>EMEA</td>\n",
       "      <td>None</td>\n",
       "      <td>0</td>\n",
       "      <td>0</td>\n",
       "      <td>0</td>\n",
       "      <td>0</td>\n",
       "      <td>0</td>\n",
       "      <td>Bureaucratic_Code_4</td>\n",
       "      <td>6/16/2015</td>\n",
       "      <td>...</td>\n",
       "      <td>Q1</td>\n",
       "      <td>2016</td>\n",
       "      <td>NaT</td>\n",
       "      <td>0</td>\n",
       "      <td>EUR</td>\n",
       "      <td>48230.00</td>\n",
       "      <td>EUR</td>\n",
       "      <td>48230.0</td>\n",
       "      <td>Closed Won</td>\n",
       "      <td>Prod_Category_A_None</td>\n",
       "    </tr>\n",
       "    <tr>\n",
       "      <th>2</th>\n",
       "      <td>27446</td>\n",
       "      <td>Americas</td>\n",
       "      <td>NW America</td>\n",
       "      <td>0</td>\n",
       "      <td>0</td>\n",
       "      <td>0</td>\n",
       "      <td>0</td>\n",
       "      <td>0</td>\n",
       "      <td>Bureaucratic_Code_4</td>\n",
       "      <td>4/21/2015</td>\n",
       "      <td>...</td>\n",
       "      <td>Q1</td>\n",
       "      <td>2016</td>\n",
       "      <td>NaT</td>\n",
       "      <td>0</td>\n",
       "      <td>USD</td>\n",
       "      <td>83865.60</td>\n",
       "      <td>USD</td>\n",
       "      <td>83865.6</td>\n",
       "      <td>Closed Won</td>\n",
       "      <td>Prod_Category_A_None</td>\n",
       "    </tr>\n",
       "    <tr>\n",
       "      <th>3</th>\n",
       "      <td>16808</td>\n",
       "      <td>Americas</td>\n",
       "      <td>NW America</td>\n",
       "      <td>1</td>\n",
       "      <td>0</td>\n",
       "      <td>1</td>\n",
       "      <td>0</td>\n",
       "      <td>0</td>\n",
       "      <td>Bureaucratic_Code_5</td>\n",
       "      <td>7/27/2013</td>\n",
       "      <td>...</td>\n",
       "      <td>Q1</td>\n",
       "      <td>2018</td>\n",
       "      <td>NaT</td>\n",
       "      <td>14</td>\n",
       "      <td>USD</td>\n",
       "      <td>7421881.50</td>\n",
       "      <td>USD</td>\n",
       "      <td>7421881.5</td>\n",
       "      <td>Closed Lost</td>\n",
       "      <td>Prod_Category_A_None</td>\n",
       "    </tr>\n",
       "    <tr>\n",
       "      <th>4</th>\n",
       "      <td>16805</td>\n",
       "      <td>Americas</td>\n",
       "      <td>NW America</td>\n",
       "      <td>1</td>\n",
       "      <td>0</td>\n",
       "      <td>1</td>\n",
       "      <td>0</td>\n",
       "      <td>0</td>\n",
       "      <td>Bureaucratic_Code_5</td>\n",
       "      <td>7/27/2013</td>\n",
       "      <td>...</td>\n",
       "      <td>Q1</td>\n",
       "      <td>2018</td>\n",
       "      <td>NaT</td>\n",
       "      <td>25</td>\n",
       "      <td>USD</td>\n",
       "      <td>13357192.50</td>\n",
       "      <td>USD</td>\n",
       "      <td>13357192.5</td>\n",
       "      <td>Closed Lost</td>\n",
       "      <td>Prod_Category_A_None</td>\n",
       "    </tr>\n",
       "    <tr>\n",
       "      <th>...</th>\n",
       "      <td>...</td>\n",
       "      <td>...</td>\n",
       "      <td>...</td>\n",
       "      <td>...</td>\n",
       "      <td>...</td>\n",
       "      <td>...</td>\n",
       "      <td>...</td>\n",
       "      <td>...</td>\n",
       "      <td>...</td>\n",
       "      <td>...</td>\n",
       "      <td>...</td>\n",
       "      <td>...</td>\n",
       "      <td>...</td>\n",
       "      <td>...</td>\n",
       "      <td>...</td>\n",
       "      <td>...</td>\n",
       "      <td>...</td>\n",
       "      <td>...</td>\n",
       "      <td>...</td>\n",
       "      <td>...</td>\n",
       "      <td>...</td>\n",
       "    </tr>\n",
       "    <tr>\n",
       "      <th>16942</th>\n",
       "      <td>8781</td>\n",
       "      <td>EMEA</td>\n",
       "      <td>Austria</td>\n",
       "      <td>1</td>\n",
       "      <td>1</td>\n",
       "      <td>1</td>\n",
       "      <td>1</td>\n",
       "      <td>0</td>\n",
       "      <td>Bureaucratic_Code_4</td>\n",
       "      <td>1/15/2016</td>\n",
       "      <td>...</td>\n",
       "      <td>Q1</td>\n",
       "      <td>2016</td>\n",
       "      <td>NaT</td>\n",
       "      <td>0</td>\n",
       "      <td>EUR</td>\n",
       "      <td>103350.00</td>\n",
       "      <td>EUR</td>\n",
       "      <td>299715.0</td>\n",
       "      <td>Closed Won</td>\n",
       "      <td>Prod_Category_A_None</td>\n",
       "    </tr>\n",
       "    <tr>\n",
       "      <th>16943</th>\n",
       "      <td>8786</td>\n",
       "      <td>EMEA</td>\n",
       "      <td>Austria</td>\n",
       "      <td>1</td>\n",
       "      <td>1</td>\n",
       "      <td>1</td>\n",
       "      <td>1</td>\n",
       "      <td>0</td>\n",
       "      <td>Bureaucratic_Code_4</td>\n",
       "      <td>1/15/2016</td>\n",
       "      <td>...</td>\n",
       "      <td>Q2</td>\n",
       "      <td>2016</td>\n",
       "      <td>NaT</td>\n",
       "      <td>0</td>\n",
       "      <td>EUR</td>\n",
       "      <td>93015.00</td>\n",
       "      <td>EUR</td>\n",
       "      <td>299715.0</td>\n",
       "      <td>Closed Won</td>\n",
       "      <td>Prod_Category_A_None</td>\n",
       "    </tr>\n",
       "    <tr>\n",
       "      <th>16944</th>\n",
       "      <td>8792</td>\n",
       "      <td>EMEA</td>\n",
       "      <td>Austria</td>\n",
       "      <td>1</td>\n",
       "      <td>1</td>\n",
       "      <td>1</td>\n",
       "      <td>1</td>\n",
       "      <td>0</td>\n",
       "      <td>Bureaucratic_Code_4</td>\n",
       "      <td>1/15/2016</td>\n",
       "      <td>...</td>\n",
       "      <td>Q1</td>\n",
       "      <td>2016</td>\n",
       "      <td>NaT</td>\n",
       "      <td>0</td>\n",
       "      <td>EUR</td>\n",
       "      <td>103350.00</td>\n",
       "      <td>EUR</td>\n",
       "      <td>299715.0</td>\n",
       "      <td>Closed Won</td>\n",
       "      <td>Prod_Category_A_None</td>\n",
       "    </tr>\n",
       "    <tr>\n",
       "      <th>16945</th>\n",
       "      <td>28561</td>\n",
       "      <td>Americas</td>\n",
       "      <td>NE America</td>\n",
       "      <td>1</td>\n",
       "      <td>1</td>\n",
       "      <td>1</td>\n",
       "      <td>1</td>\n",
       "      <td>0</td>\n",
       "      <td>Bureaucratic_Code_4</td>\n",
       "      <td>10/20/2015</td>\n",
       "      <td>...</td>\n",
       "      <td>Q2</td>\n",
       "      <td>2016</td>\n",
       "      <td>NaT</td>\n",
       "      <td>4</td>\n",
       "      <td>USD</td>\n",
       "      <td>2346796.88</td>\n",
       "      <td>USD</td>\n",
       "      <td>0.0</td>\n",
       "      <td>Closed Lost</td>\n",
       "      <td>Prod_Category_A_None</td>\n",
       "    </tr>\n",
       "    <tr>\n",
       "      <th>16946</th>\n",
       "      <td>28318</td>\n",
       "      <td>Americas</td>\n",
       "      <td>NE America</td>\n",
       "      <td>1</td>\n",
       "      <td>1</td>\n",
       "      <td>1</td>\n",
       "      <td>1</td>\n",
       "      <td>0</td>\n",
       "      <td>Bureaucratic_Code_4</td>\n",
       "      <td>9/3/2015</td>\n",
       "      <td>...</td>\n",
       "      <td>Q3</td>\n",
       "      <td>2016</td>\n",
       "      <td>NaT</td>\n",
       "      <td>40</td>\n",
       "      <td>USD</td>\n",
       "      <td>25603200.00</td>\n",
       "      <td>USD</td>\n",
       "      <td>0.0</td>\n",
       "      <td>Closed Lost</td>\n",
       "      <td>Prod_Category_A_None</td>\n",
       "    </tr>\n",
       "  </tbody>\n",
       "</table>\n",
       "<p>16883 rows × 52 columns</p>\n",
       "</div>"
      ],
      "text/plain": [
       "          ID    Region   Territory  Pricing, Delivery_Terms_Quote_Appr  \\\n",
       "0      27761      EMEA        None                                   1   \n",
       "1      27760      EMEA        None                                   0   \n",
       "2      27446  Americas  NW America                                   0   \n",
       "3      16808  Americas  NW America                                   1   \n",
       "4      16805  Americas  NW America                                   1   \n",
       "...      ...       ...         ...                                 ...   \n",
       "16942   8781      EMEA     Austria                                   1   \n",
       "16943   8786      EMEA     Austria                                   1   \n",
       "16944   8792      EMEA     Austria                                   1   \n",
       "16945  28561  Americas  NE America                                   1   \n",
       "16946  28318  Americas  NE America                                   1   \n",
       "\n",
       "       Pricing, Delivery_Terms_Approved  Bureaucratic_Code_0_Approval  \\\n",
       "0                                     1                             1   \n",
       "1                                     0                             0   \n",
       "2                                     0                             0   \n",
       "3                                     0                             1   \n",
       "4                                     0                             1   \n",
       "...                                 ...                           ...   \n",
       "16942                                 1                             1   \n",
       "16943                                 1                             1   \n",
       "16944                                 1                             1   \n",
       "16945                                 1                             1   \n",
       "16946                                 1                             1   \n",
       "\n",
       "       Bureaucratic_Code_0_Approved  Submitted_for_Approval  \\\n",
       "0                                 1                       0   \n",
       "1                                 0                       0   \n",
       "2                                 0                       0   \n",
       "3                                 0                       0   \n",
       "4                                 0                       0   \n",
       "...                             ...                     ...   \n",
       "16942                             1                       0   \n",
       "16943                             1                       0   \n",
       "16944                             1                       0   \n",
       "16945                             1                       0   \n",
       "16946                             1                       0   \n",
       "\n",
       "         Bureaucratic_Code Account_Created_Date  ... Delivery_Quarter  \\\n",
       "0      Bureaucratic_Code_4            6/16/2015  ...               Q2   \n",
       "1      Bureaucratic_Code_4            6/16/2015  ...               Q1   \n",
       "2      Bureaucratic_Code_4            4/21/2015  ...               Q1   \n",
       "3      Bureaucratic_Code_5            7/27/2013  ...               Q1   \n",
       "4      Bureaucratic_Code_5            7/27/2013  ...               Q1   \n",
       "...                    ...                  ...  ...              ...   \n",
       "16942  Bureaucratic_Code_4            1/15/2016  ...               Q1   \n",
       "16943  Bureaucratic_Code_4            1/15/2016  ...               Q2   \n",
       "16944  Bureaucratic_Code_4            1/15/2016  ...               Q1   \n",
       "16945  Bureaucratic_Code_4           10/20/2015  ...               Q2   \n",
       "16946  Bureaucratic_Code_4             9/3/2015  ...               Q3   \n",
       "\n",
       "      Delivery_Year Actual_Delivery_Date TRF  Total_Amount_Currency  \\\n",
       "0              2016                  NaT  10                    EUR   \n",
       "1              2016                  NaT   0                    EUR   \n",
       "2              2016                  NaT   0                    USD   \n",
       "3              2018                  NaT  14                    USD   \n",
       "4              2018                  NaT  25                    USD   \n",
       "...             ...                  ...  ..                    ...   \n",
       "16942          2016                  NaT   0                    EUR   \n",
       "16943          2016                  NaT   0                    EUR   \n",
       "16944          2016                  NaT   0                    EUR   \n",
       "16945          2016                  NaT   4                    USD   \n",
       "16946          2016                  NaT  40                    USD   \n",
       "\n",
       "      Total_Amount Total_Taxable_Amount_Currency Total_Taxable_Amount  \\\n",
       "0       5272800.00                           EUR            5272800.0   \n",
       "1         48230.00                           EUR              48230.0   \n",
       "2         83865.60                           USD              83865.6   \n",
       "3       7421881.50                           USD            7421881.5   \n",
       "4      13357192.50                           USD           13357192.5   \n",
       "...            ...                           ...                  ...   \n",
       "16942    103350.00                           EUR             299715.0   \n",
       "16943     93015.00                           EUR             299715.0   \n",
       "16944    103350.00                           EUR             299715.0   \n",
       "16945   2346796.88                           USD                  0.0   \n",
       "16946  25603200.00                           USD                  0.0   \n",
       "\n",
       "             Stage       Prod_Category_A  \n",
       "0      Closed Lost  Prod_Category_A_None  \n",
       "1       Closed Won  Prod_Category_A_None  \n",
       "2       Closed Won  Prod_Category_A_None  \n",
       "3      Closed Lost  Prod_Category_A_None  \n",
       "4      Closed Lost  Prod_Category_A_None  \n",
       "...            ...                   ...  \n",
       "16942   Closed Won  Prod_Category_A_None  \n",
       "16943   Closed Won  Prod_Category_A_None  \n",
       "16944   Closed Won  Prod_Category_A_None  \n",
       "16945  Closed Lost  Prod_Category_A_None  \n",
       "16946  Closed Lost  Prod_Category_A_None  \n",
       "\n",
       "[16883 rows x 52 columns]"
      ]
     },
     "execution_count": 24,
     "metadata": {},
     "output_type": "execute_result"
    }
   ],
   "source": [
    "df"
   ]
  },
  {
   "cell_type": "code",
   "execution_count": 25,
   "metadata": {},
   "outputs": [
    {
     "data": {
      "text/html": [
       "<div>\n",
       "<style scoped>\n",
       "    .dataframe tbody tr th:only-of-type {\n",
       "        vertical-align: middle;\n",
       "    }\n",
       "\n",
       "    .dataframe tbody tr th {\n",
       "        vertical-align: top;\n",
       "    }\n",
       "\n",
       "    .dataframe thead th {\n",
       "        text-align: right;\n",
       "    }\n",
       "</style>\n",
       "<table border=\"1\" class=\"dataframe\">\n",
       "  <thead>\n",
       "    <tr style=\"text-align: right;\">\n",
       "      <th>Region</th>\n",
       "      <th>APAC</th>\n",
       "      <th>Americas</th>\n",
       "      <th>EMEA</th>\n",
       "      <th>Japan</th>\n",
       "    </tr>\n",
       "    <tr>\n",
       "      <th>Stage</th>\n",
       "      <th></th>\n",
       "      <th></th>\n",
       "      <th></th>\n",
       "      <th></th>\n",
       "    </tr>\n",
       "  </thead>\n",
       "  <tbody>\n",
       "    <tr>\n",
       "      <th>Closed Lost</th>\n",
       "      <td>1355</td>\n",
       "      <td>2140</td>\n",
       "      <td>2309</td>\n",
       "      <td>1546</td>\n",
       "    </tr>\n",
       "    <tr>\n",
       "      <th>Closed Won</th>\n",
       "      <td>1896</td>\n",
       "      <td>1793</td>\n",
       "      <td>2521</td>\n",
       "      <td>3323</td>\n",
       "    </tr>\n",
       "  </tbody>\n",
       "</table>\n",
       "</div>"
      ],
      "text/plain": [
       "Region       APAC  Americas  EMEA  Japan\n",
       "Stage                                   \n",
       "Closed Lost  1355      2140  2309   1546\n",
       "Closed Won   1896      1793  2521   3323"
      ]
     },
     "execution_count": 25,
     "metadata": {},
     "output_type": "execute_result"
    }
   ],
   "source": [
    "dfHeat = df.groupby(\"Region\")[\"Stage\"].value_counts().unstack().T\n",
    "dfHeat"
   ]
  },
  {
   "cell_type": "code",
   "execution_count": 26,
   "metadata": {},
   "outputs": [],
   "source": [
    "ylabels = ['Venta cancelada', 'Venta exitosa']\n",
    "xlabels = ['APAC', 'Americas', 'EMEA', 'Japan']"
   ]
  },
  {
   "cell_type": "code",
   "execution_count": 27,
   "metadata": {},
   "outputs": [
    {
     "data": {
      "image/png": "[encoded data removed]",
      "text/plain": [
       "<Figure size 432x288 with 2 Axes>"
      ]
     },
     "metadata": {
      "needs_background": "light"
     },
     "output_type": "display_data"
    }
   ],
   "source": [
    "sns.heatmap(dfHeat, annot = True, vmin = 1200, vmax = 3400,\n",
    "            cmap = sns.light_palette('Red'),\n",
    "            fmt = \".0f\", annot_kws = {'fontsize':12, 'fontweight':'bold'},\n",
    "            linewidth = 3, linecolor = 'black', yticklabels = ylabels,\n",
    "            cbar_kws={'label': 'Cantidad de oportunidades'},\n",
    "            ).set(title = \"Etapa de las oportunidades de negocio de las regiones comerciales\")\n",
    "plt.xlabel(\"Regiones\")\n",
    "plt.ylabel(\"Etapa de la oportunidad\")\n",
    "plt.savefig('visu1_OportunidadDeNegocioRegionesComerciales.jpg',\n",
    "            format='jpeg', dpi=200, bbox_inches = \"tight\")"
   ]
  },
  {
   "cell_type": "code",
   "execution_count": 28,
   "metadata": {},
   "outputs": [
    {
     "data": {
      "text/plain": [
       "Closed Won     9533\n",
       "Closed Lost    7350\n",
       "Name: Stage, dtype: int64"
      ]
     },
     "execution_count": 28,
     "metadata": {},
     "output_type": "execute_result"
    }
   ],
   "source": [
    "df['Stage'].value_counts()"
   ]
  },
  {
   "cell_type": "code",
   "execution_count": 29,
   "metadata": {},
   "outputs": [],
   "source": [
    "df['Stage'] = (df['Stage'] == 'Closed Won').astype(int)"
   ]
  },
  {
   "cell_type": "code",
   "execution_count": 30,
   "metadata": {},
   "outputs": [
    {
     "data": {
      "text/plain": [
       "1    9533\n",
       "0    7350\n",
       "Name: Stage, dtype: int64"
      ]
     },
     "execution_count": 30,
     "metadata": {},
     "output_type": "execute_result"
    }
   ],
   "source": [
    "df['Stage'].value_counts()"
   ]
  },
  {
   "cell_type": "code",
   "execution_count": 31,
   "metadata": {},
   "outputs": [
    {
     "data": {
      "text/plain": [
       "2017    6317\n",
       "2018    5830\n",
       "2016    4371\n",
       "2019     365\n",
       "Name: Delivery_Year, dtype: int64"
      ]
     },
     "execution_count": 31,
     "metadata": {},
     "output_type": "execute_result"
    }
   ],
   "source": [
    "df[\"Delivery_Year\"].value_counts()"
   ]
  },
  {
   "cell_type": "code",
   "execution_count": 32,
   "metadata": {},
   "outputs": [
    {
     "data": {
      "text/plain": [
       "Account_Type_2    8786\n",
       "Account_Type_0    5866\n",
       "Account_Type_5    1928\n",
       "Account_Type_1     164\n",
       "None               112\n",
       "Account_Type_6      17\n",
       "Account_Type_4      10\n",
       "Name: Account_Type, dtype: int64"
      ]
     },
     "execution_count": 32,
     "metadata": {},
     "output_type": "execute_result"
    }
   ],
   "source": [
    "df[\"Account_Type\"].value_counts()"
   ]
  },
  {
   "cell_type": "code",
   "execution_count": 33,
   "metadata": {},
   "outputs": [
    {
     "data": {
      "text/plain": [
       "Opportunity_Type_1     6774\n",
       "Opportunity_Type_7     5760\n",
       "Opportunity_Type_19    1889\n",
       "Opportunity_Type_8     1458\n",
       "Opportunity_Type_12     279\n",
       "Opportunity_Type_3      274\n",
       "Opportunity_Type_20     175\n",
       "Opportunity_Type_2       69\n",
       "Opportunity_Type_4       50\n",
       "Opportunity_Type_10      34\n",
       "Opportunity_Type_9       23\n",
       "Opportunity_Type_14      15\n",
       "Opportunity_Type_5       14\n",
       "Opportunity_Type_18      11\n",
       "Opportunity_Type_15       9\n",
       "Opportunity_Type_22       9\n",
       "Opportunity_Type_0        8\n",
       "Opportunity_Type_17       8\n",
       "Opportunity_Type_23       5\n",
       "Opportunity_Type_21       5\n",
       "Opportunity_Type_16       4\n",
       "Opportunity_Type_13       4\n",
       "Opportunity_Type_11       3\n",
       "Opportunity_Type_6        2\n",
       "Opportunity_Type_24       1\n",
       "Name: Opportunity_Type, dtype: int64"
      ]
     },
     "execution_count": 33,
     "metadata": {},
     "output_type": "execute_result"
    }
   ],
   "source": [
    "df[\"Opportunity_Type\"].value_counts()"
   ]
  },
  {
   "cell_type": "code",
   "execution_count": 34,
   "metadata": {},
   "outputs": [],
   "source": [
    "dfMainOpp = df.loc[(df[\"Opportunity_Type\"] == \"Opportunity_Type_1\") | (df[\"Opportunity_Type\"] == \"Opportunity_Type_7\") | (df[\"Opportunity_Type\"] == \"Opportunity_Type_19\") | (df[\"Opportunity_Type\"] == \"Opportunity_Type_8\"), :]"
   ]
  },
  {
   "cell_type": "code",
   "execution_count": 41,
   "metadata": {},
   "outputs": [],
   "source": [
    "xlabels = [\"Tipo 19\", \"Tipo 1\", \"Tipo 7\", \"Tipo 8\"]"
   ]
  },
  {
   "cell_type": "code",
   "execution_count": 42,
   "metadata": {},
   "outputs": [
    {
     "data": {
      "image/png": "[encoded data removed]",
      "text/plain": [
       "<Figure size 432x288 with 1 Axes>"
      ]
     },
     "metadata": {
      "needs_background": "light"
     },
     "output_type": "display_data"
    }
   ],
   "source": [
    "sns.barplot(data = dfMainOpp, x = 'Opportunity_Type', \n",
    "            y = 'Stage', palette = 'Purples',\n",
    "            order = [\"Opportunity_Type_19\", \"Opportunity_Type_1\", \"Opportunity_Type_7\", \"Opportunity_Type_8\"]).set(xticklabels = xlabels,\n",
    "                                                                                                                   title = 'Probabilidad de venta exitosa según los principales tipos de oportunidades de negocio')\n",
    "plt.xlabel(\"Tipo de oportunidad de negocio\")\n",
    "plt.ylabel(\"Probabilidad de éxito\")\n",
    "plt.savefig('visu2ProbabilidadVentaExitosaTipoDeNegocio.jpg',\n",
    "            format='jpeg', dpi=200, bbox_inches = \"tight\")"
   ]
  }
 ],
 "metadata": {
  "kernelspec": {
   "display_name": "Python 3",
   "language": "python",
   "name": "python3"
  },
  "language_info": {
   "codemirror_mode": {
    "name": "ipython",
    "version": 3
   },
   "file_extension": ".py",
   "mimetype": "text/x-python",
   "name": "python",
   "nbconvert_exporter": "python",
   "pygments_lexer": "ipython3",
   "version": "3.8.5"
  },
  "varInspector": {
   "cols": {
    "lenName": 16,
    "lenType": 16,
    "lenVar": 40
   },
   "kernels_config": {
    "python": {
     "delete_cmd_postfix": "",
     "delete_cmd_prefix": "del ",
     "library": "var_list.py",
     "varRefreshCmd": "print(var_dic_list())"
    },
    "r": {
     "delete_cmd_postfix": ") ",
     "delete_cmd_prefix": "rm(",
     "library": "var_list.r",
     "varRefreshCmd": "cat(var_dic_list()) "
    }
   },
   "types_to_exclude": [
    "module",
    "function",
    "builtin_function_or_method",
    "instance",
    "_Feature"
   ],
   "window_display": false
  }
 },
 "nbformat": 4,
 "nbformat_minor": 4
}
