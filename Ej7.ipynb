{
 "cells": [
  {
   "cell_type": "markdown",
   "metadata": {},
   "source": [
    "# Ejercicio 7\n",
    "La antigüedad promedio de la última edición de los artículos cuyo título contenga tu\n",
    "apellido (si no hay, tu nombre y si tampoco hay usa Cafferata)"
   ]
  },
  {
   "cell_type": "code",
   "execution_count": null,
   "metadata": {},
   "outputs": [],
   "source": [
    "import pandas as pd\n",
    "import numpy as np\n",
    "import warnings\n",
    "warnings.filterwarnings('ignore')\n",
    "df = pd.read_csv('./WikipediaDataset/contents.csv')"
   ]
  },
  {
   "cell_type": "code",
   "execution_count": 2,
   "metadata": {},
   "outputs": [
    {
     "data": {
      "text/html": [
       "<div>\n",
       "<style scoped>\n",
       "    .dataframe tbody tr th:only-of-type {\n",
       "        vertical-align: middle;\n",
       "    }\n",
       "\n",
       "    .dataframe tbody tr th {\n",
       "        vertical-align: top;\n",
       "    }\n",
       "\n",
       "    .dataframe thead th {\n",
       "        text-align: right;\n",
       "    }\n",
       "</style>\n",
       "<table border=\"1\" class=\"dataframe\">\n",
       "  <thead>\n",
       "    <tr style=\"text-align: right;\">\n",
       "      <th></th>\n",
       "      <th>title</th>\n",
       "      <th>id</th>\n",
       "      <th>namespace</th>\n",
       "      <th>revision_id</th>\n",
       "      <th>parent_revision</th>\n",
       "      <th>revision_timestamp</th>\n",
       "      <th>revisor_username</th>\n",
       "      <th>revisor_id</th>\n",
       "      <th>revisor_ip</th>\n",
       "      <th>revisor_comment</th>\n",
       "    </tr>\n",
       "  </thead>\n",
       "  <tbody>\n",
       "    <tr>\n",
       "      <th>0</th>\n",
       "      <td>Wikipedia:Artículos solicitados</td>\n",
       "      <td>5</td>\n",
       "      <td>4</td>\n",
       "      <td>132533307</td>\n",
       "      <td>132516631.0</td>\n",
       "      <td>2021-01-19T18:40:34Z</td>\n",
       "      <td>Metrónomo</td>\n",
       "      <td>1708233.0</td>\n",
       "      <td>NaN</td>\n",
       "      <td>Así esta mejor</td>\n",
       "    </tr>\n",
       "    <tr>\n",
       "      <th>1</th>\n",
       "      <td>Andorra</td>\n",
       "      <td>7</td>\n",
       "      <td>0</td>\n",
       "      <td>138035057</td>\n",
       "      <td>138027475.0</td>\n",
       "      <td>2021-08-31T18:27:01Z</td>\n",
       "      <td>NaN</td>\n",
       "      <td>NaN</td>\n",
       "      <td>2800:CD0:FC1B:A900:C5A4:9E81:7175:2ED2</td>\n",
       "      <td>Añadir contenido</td>\n",
       "    </tr>\n",
       "    <tr>\n",
       "      <th>2</th>\n",
       "      <td>Argentina</td>\n",
       "      <td>10</td>\n",
       "      <td>0</td>\n",
       "      <td>137966826</td>\n",
       "      <td>137825165.0</td>\n",
       "      <td>2021-08-28T17:17:54Z</td>\n",
       "      <td>Traitrich</td>\n",
       "      <td>4642283.0</td>\n",
       "      <td>NaN</td>\n",
       "      <td>Reemplazos con [[Usuario:Benjavalero/Replacer|...</td>\n",
       "    </tr>\n",
       "    <tr>\n",
       "      <th>3</th>\n",
       "      <td>Geografía de Andorra</td>\n",
       "      <td>15</td>\n",
       "      <td>0</td>\n",
       "      <td>137986788</td>\n",
       "      <td>133666383.0</td>\n",
       "      <td>2021-08-29T17:16:00Z</td>\n",
       "      <td>Lojwe</td>\n",
       "      <td>5338508.0</td>\n",
       "      <td>NaN</td>\n",
       "      <td>Reemplazos con [[Usuario:Benjavalero/Replacer|...</td>\n",
       "    </tr>\n",
       "    <tr>\n",
       "      <th>4</th>\n",
       "      <td>Demografía de Andorra</td>\n",
       "      <td>17</td>\n",
       "      <td>0</td>\n",
       "      <td>130869554</td>\n",
       "      <td>129413188.0</td>\n",
       "      <td>2020-11-12T19:56:15Z</td>\n",
       "      <td>Jialxv</td>\n",
       "      <td>3615366.0</td>\n",
       "      <td>NaN</td>\n",
       "      <td>Correcciones ortográficas con [[Usuario:Benjav...</td>\n",
       "    </tr>\n",
       "  </tbody>\n",
       "</table>\n",
       "</div>"
      ],
      "text/plain": [
       "                             title  id  namespace  revision_id  \\\n",
       "0  Wikipedia:Artículos solicitados   5          4    132533307   \n",
       "1                          Andorra   7          0    138035057   \n",
       "2                        Argentina  10          0    137966826   \n",
       "3             Geografía de Andorra  15          0    137986788   \n",
       "4            Demografía de Andorra  17          0    130869554   \n",
       "\n",
       "   parent_revision    revision_timestamp revisor_username  revisor_id  \\\n",
       "0      132516631.0  2021-01-19T18:40:34Z        Metrónomo   1708233.0   \n",
       "1      138027475.0  2021-08-31T18:27:01Z              NaN         NaN   \n",
       "2      137825165.0  2021-08-28T17:17:54Z        Traitrich   4642283.0   \n",
       "3      133666383.0  2021-08-29T17:16:00Z            Lojwe   5338508.0   \n",
       "4      129413188.0  2020-11-12T19:56:15Z           Jialxv   3615366.0   \n",
       "\n",
       "                               revisor_ip  \\\n",
       "0                                     NaN   \n",
       "1  2800:CD0:FC1B:A900:C5A4:9E81:7175:2ED2   \n",
       "2                                     NaN   \n",
       "3                                     NaN   \n",
       "4                                     NaN   \n",
       "\n",
       "                                     revisor_comment  \n",
       "0                                     Así esta mejor  \n",
       "1                                   Añadir contenido  \n",
       "2  Reemplazos con [[Usuario:Benjavalero/Replacer|...  \n",
       "3  Reemplazos con [[Usuario:Benjavalero/Replacer|...  \n",
       "4  Correcciones ortográficas con [[Usuario:Benjav...  "
      ]
     },
     "execution_count": 2,
     "metadata": {},
     "output_type": "execute_result"
    }
   ],
   "source": [
    "df.head()"
   ]
  },
  {
   "cell_type": "code",
   "execution_count": 3,
   "metadata": {},
   "outputs": [
    {
     "name": "stdout",
     "output_type": "stream",
     "text": [
      "<class 'pandas.core.frame.DataFrame'>\n",
      "RangeIndex: 4132164 entries, 0 to 4132163\n",
      "Data columns (total 10 columns):\n",
      " #   Column              Dtype  \n",
      "---  ------              -----  \n",
      " 0   title               object \n",
      " 1   id                  int64  \n",
      " 2   namespace           int64  \n",
      " 3   revision_id         int64  \n",
      " 4   parent_revision     float64\n",
      " 5   revision_timestamp  object \n",
      " 6   revisor_username    object \n",
      " 7   revisor_id          float64\n",
      " 8   revisor_ip          object \n",
      " 9   revisor_comment     object \n",
      "dtypes: float64(2), int64(3), object(5)\n",
      "memory usage: 315.3+ MB\n"
     ]
    }
   ],
   "source": [
    "df.info()"
   ]
  },
  {
   "cell_type": "markdown",
   "metadata": {},
   "source": [
    "## Limpiando y preparando el dataset\n",
    "Para la consigna no se necesitan todas las columnas cargadas. Se procede a eliminar columnas que no serán últiles."
   ]
  },
  {
   "cell_type": "code",
   "execution_count": 4,
   "metadata": {},
   "outputs": [
    {
     "name": "stdout",
     "output_type": "stream",
     "text": [
      "<class 'pandas.core.frame.DataFrame'>\n",
      "RangeIndex: 4132164 entries, 0 to 4132163\n",
      "Data columns (total 2 columns):\n",
      " #   Column              Dtype \n",
      "---  ------              ----- \n",
      " 0   title               object\n",
      " 1   revision_timestamp  object\n",
      "dtypes: object(2)\n",
      "memory usage: 63.1+ MB\n"
     ]
    }
   ],
   "source": [
    "df.drop(columns = [\"id\", \"namespace\", \"revision_id\", \"parent_revision\", \"revisor_username\", \"revisor_id\", \"revisor_ip\", \"revisor_comment\"], inplace = True)\n",
    "df.info()"
   ]
  },
  {
   "cell_type": "markdown",
   "metadata": {},
   "source": [
    "Se procede a eliminar las columnas con NaN en el título"
   ]
  },
  {
   "cell_type": "code",
   "execution_count": 5,
   "metadata": {},
   "outputs": [
    {
     "data": {
      "text/plain": [
       "title                 4132160\n",
       "revision_timestamp    4132164\n",
       "dtype: int64"
      ]
     },
     "execution_count": 5,
     "metadata": {},
     "output_type": "execute_result"
    }
   ],
   "source": [
    "df.count()"
   ]
  },
  {
   "cell_type": "code",
   "execution_count": 6,
   "metadata": {},
   "outputs": [
    {
     "data": {
      "text/plain": [
       "title                 4132160\n",
       "revision_timestamp    4132160\n",
       "dtype: int64"
      ]
     },
     "execution_count": 6,
     "metadata": {},
     "output_type": "execute_result"
    }
   ],
   "source": [
    "df = df.loc[~df[\"title\"].isnull(), :]\n",
    "df.count()"
   ]
  },
  {
   "cell_type": "markdown",
   "metadata": {},
   "source": [
    "Para poder usar las fechas de la columna timestamp, tengo que transformar las fechas.\n"
   ]
  },
  {
   "cell_type": "code",
   "execution_count": 7,
   "metadata": {},
   "outputs": [
    {
     "name": "stdout",
     "output_type": "stream",
     "text": [
      "<class 'pandas.core.frame.DataFrame'>\n",
      "Int64Index: 4132160 entries, 0 to 4132163\n",
      "Data columns (total 2 columns):\n",
      " #   Column              Dtype              \n",
      "---  ------              -----              \n",
      " 0   title               object             \n",
      " 1   revision_timestamp  datetime64[ns, UTC]\n",
      "dtypes: datetime64[ns, UTC](1), object(1)\n",
      "memory usage: 94.6+ MB\n"
     ]
    }
   ],
   "source": [
    "df[\"revision_timestamp\"] = pd.to_datetime(df[\"revision_timestamp\"])\n",
    "df.info()"
   ]
  },
  {
   "cell_type": "code",
   "execution_count": 8,
   "metadata": {},
   "outputs": [
    {
     "data": {
      "text/html": [
       "<div>\n",
       "<style scoped>\n",
       "    .dataframe tbody tr th:only-of-type {\n",
       "        vertical-align: middle;\n",
       "    }\n",
       "\n",
       "    .dataframe tbody tr th {\n",
       "        vertical-align: top;\n",
       "    }\n",
       "\n",
       "    .dataframe thead th {\n",
       "        text-align: right;\n",
       "    }\n",
       "</style>\n",
       "<table border=\"1\" class=\"dataframe\">\n",
       "  <thead>\n",
       "    <tr style=\"text-align: right;\">\n",
       "      <th></th>\n",
       "      <th>index</th>\n",
       "      <th>title</th>\n",
       "      <th>revision_timestamp</th>\n",
       "    </tr>\n",
       "  </thead>\n",
       "  <tbody>\n",
       "    <tr>\n",
       "      <th>0</th>\n",
       "      <td>7213</td>\n",
       "      <td>María Zambrano</td>\n",
       "      <td>2021-06-30 03:19:54+00:00</td>\n",
       "    </tr>\n",
       "    <tr>\n",
       "      <th>1</th>\n",
       "      <td>13943</td>\n",
       "      <td>Mateo de Toro-Zambrano</td>\n",
       "      <td>2012-09-01 14:13:25+00:00</td>\n",
       "    </tr>\n",
       "    <tr>\n",
       "      <th>2</th>\n",
       "      <td>44784</td>\n",
       "      <td>Mateo de Toro Zambrano y Ureta</td>\n",
       "      <td>2012-09-01 14:13:42+00:00</td>\n",
       "    </tr>\n",
       "    <tr>\n",
       "      <th>3</th>\n",
       "      <td>61002</td>\n",
       "      <td>Mateo de Toro Zambrano</td>\n",
       "      <td>2021-08-21 20:52:36+00:00</td>\n",
       "    </tr>\n",
       "    <tr>\n",
       "      <th>4</th>\n",
       "      <td>153826</td>\n",
       "      <td>Lorenzo Zambrano</td>\n",
       "      <td>2020-12-01 21:35:13+00:00</td>\n",
       "    </tr>\n",
       "    <tr>\n",
       "      <th>...</th>\n",
       "      <td>...</td>\n",
       "      <td>...</td>\n",
       "      <td>...</td>\n",
       "    </tr>\n",
       "    <tr>\n",
       "      <th>151</th>\n",
       "      <td>4000810</td>\n",
       "      <td>Zambrano (Honduras)</td>\n",
       "      <td>2020-12-29 22:59:09+00:00</td>\n",
       "    </tr>\n",
       "    <tr>\n",
       "      <th>152</th>\n",
       "      <td>4014171</td>\n",
       "      <td>Jorge Luis Zambrano</td>\n",
       "      <td>2021-06-16 17:34:33+00:00</td>\n",
       "    </tr>\n",
       "    <tr>\n",
       "      <th>153</th>\n",
       "      <td>4024467</td>\n",
       "      <td>Roberta Zambrano</td>\n",
       "      <td>2021-08-15 23:10:06+00:00</td>\n",
       "    </tr>\n",
       "    <tr>\n",
       "      <th>154</th>\n",
       "      <td>4039850</td>\n",
       "      <td>Jorge Luis Zambrano González</td>\n",
       "      <td>2021-02-24 16:55:51+00:00</td>\n",
       "    </tr>\n",
       "    <tr>\n",
       "      <th>155</th>\n",
       "      <td>4115874</td>\n",
       "      <td>Gustavo Macías Zambrano</td>\n",
       "      <td>2021-08-31 02:55:30+00:00</td>\n",
       "    </tr>\n",
       "  </tbody>\n",
       "</table>\n",
       "<p>156 rows × 3 columns</p>\n",
       "</div>"
      ],
      "text/plain": [
       "       index                           title        revision_timestamp\n",
       "0       7213                  María Zambrano 2021-06-30 03:19:54+00:00\n",
       "1      13943          Mateo de Toro-Zambrano 2012-09-01 14:13:25+00:00\n",
       "2      44784  Mateo de Toro Zambrano y Ureta 2012-09-01 14:13:42+00:00\n",
       "3      61002          Mateo de Toro Zambrano 2021-08-21 20:52:36+00:00\n",
       "4     153826                Lorenzo Zambrano 2020-12-01 21:35:13+00:00\n",
       "..       ...                             ...                       ...\n",
       "151  4000810             Zambrano (Honduras) 2020-12-29 22:59:09+00:00\n",
       "152  4014171             Jorge Luis Zambrano 2021-06-16 17:34:33+00:00\n",
       "153  4024467                Roberta Zambrano 2021-08-15 23:10:06+00:00\n",
       "154  4039850    Jorge Luis Zambrano González 2021-02-24 16:55:51+00:00\n",
       "155  4115874         Gustavo Macías Zambrano 2021-08-31 02:55:30+00:00\n",
       "\n",
       "[156 rows x 3 columns]"
      ]
     },
     "execution_count": 8,
     "metadata": {},
     "output_type": "execute_result"
    }
   ],
   "source": [
    "dfConApellido = df.loc[df[\"title\"].str.contains('Zambrano'), :].reset_index()\n",
    "dfConApellido"
   ]
  },
  {
   "cell_type": "markdown",
   "metadata": {},
   "source": [
    "Para calcular el promedio de las fechas en las que se hicieron las ediciones, se usa el hecho de que una fecha tiene un número entero asociado y viceversa. Se procede entonces a convertir las fechas en int64, hacer el promedio, y transformar dicho promedio a una fecha. "
   ]
  },
  {
   "cell_type": "code",
   "execution_count": 9,
   "metadata": {},
   "outputs": [
    {
     "data": {
      "text/plain": [
       "array([1625023194000000000, 1346508805000000000, 1346508822000000000,\n",
       "       1629579156000000000, 1606858513000000000, 1147545232000000000,\n",
       "       1620085028000000000, 1614202374000000000, 1346508837000000000,\n",
       "       1628165323000000000, 1605236248000000000, 1588201868000000000,\n",
       "       1629072139000000000, 1190005658000000000, 1189980616000000000,\n",
       "       1629761288000000000, 1629302042000000000, 1613878902000000000,\n",
       "       1607628825000000000, 1616145892000000000, 1630477655000000000,\n",
       "       1305893964000000000, 1594320532000000000, 1614655319000000000,\n",
       "       1594614022000000000, 1589888556000000000, 1364417824000000000,\n",
       "       1224087975000000000, 1588291961000000000, 1305893975000000000,\n",
       "       1228322788000000000, 1622203733000000000, 1229452142000000000,\n",
       "       1229529786000000000, 1268201172000000000, 1613803554000000000,\n",
       "       1630149795000000000, 1463611869000000000, 1247519985000000000,\n",
       "       1305894005000000000, 1305894010000000000, 1628372529000000000,\n",
       "       1630030493000000000, 1603242935000000000, 1622507987000000000,\n",
       "       1614395956000000000, 1270113147000000000, 1305894020000000000,\n",
       "       1305894026000000000, 1305894033000000000, 1305894038000000000,\n",
       "       1305894043000000000, 1305894062000000000, 1305894067000000000,\n",
       "       1305894073000000000, 1305894078000000000, 1305894083000000000,\n",
       "       1305894088000000000, 1305894094000000000, 1305894099000000000,\n",
       "       1305894104000000000, 1305894109000000000, 1305894114000000000,\n",
       "       1305894119000000000, 1305894125000000000, 1275930218000000000,\n",
       "       1275930220000000000, 1277304614000000000, 1585224608000000000,\n",
       "       1515801443000000000, 1619503827000000000, 1614654916000000000,\n",
       "       1291079553000000000, 1304227490000000000, 1305879717000000000,\n",
       "       1306111020000000000, 1606625334000000000, 1630471092000000000,\n",
       "       1614396560000000000, 1625280677000000000, 1314971960000000000,\n",
       "       1604860597000000000, 1601415197000000000, 1618695624000000000,\n",
       "       1594734269000000000, 1329062388000000000, 1607265025000000000,\n",
       "       1394074319000000000, 1342553361000000000, 1601964615000000000,\n",
       "       1346508782000000000, 1614193306000000000, 1599139227000000000,\n",
       "       1617053789000000000, 1630366520000000000, 1628879232000000000,\n",
       "       1369758494000000000, 1606410882000000000, 1559260347000000000,\n",
       "       1589965266000000000, 1597819583000000000, 1610346473000000000,\n",
       "       1626268101000000000, 1396600796000000000, 1416511701000000000,\n",
       "       1416511721000000000, 1614927385000000000, 1539459227000000000,\n",
       "       1620287605000000000, 1622772319000000000, 1562753380000000000,\n",
       "       1625458747000000000, 1530636862000000000, 1587397754000000000,\n",
       "       1623549751000000000, 1605362398000000000, 1562119794000000000,\n",
       "       1463608246000000000, 1466637058000000000, 1468604799000000000,\n",
       "       1626559295000000000, 1629395431000000000, 1562261890000000000,\n",
       "       1610371268000000000, 1625108560000000000, 1569278761000000000,\n",
       "       1484326459000000000, 1492701265000000000, 1604160954000000000,\n",
       "       1510298678000000000, 1510298374000000000, 1622449896000000000,\n",
       "       1522761508000000000, 1614928586000000000, 1528270723000000000,\n",
       "       1528270736000000000, 1541515991000000000, 1612059762000000000,\n",
       "       1615634934000000000, 1629814010000000000, 1615053551000000000,\n",
       "       1585257243000000000, 1589754779000000000, 1629154695000000000,\n",
       "       1594351194000000000, 1586051142000000000, 1588275071000000000,\n",
       "       1593024982000000000, 1601735521000000000, 1595046955000000000,\n",
       "       1606410882000000000, 1609282749000000000, 1623864873000000000,\n",
       "       1629069006000000000, 1614185751000000000, 1630378530000000000])"
      ]
     },
     "execution_count": 9,
     "metadata": {},
     "output_type": "execute_result"
    }
   ],
   "source": [
    "serieValorPorFecha = dfConApellido[\"revision_timestamp\"].values.astype(np.int64)\n",
    "serieValorPorFecha"
   ]
  },
  {
   "cell_type": "code",
   "execution_count": 10,
   "metadata": {},
   "outputs": [
    {
     "data": {
      "text/plain": [
       "Timestamp('2017-06-10 18:30:35.897435904')"
      ]
     },
     "execution_count": 10,
     "metadata": {},
     "output_type": "execute_result"
    }
   ],
   "source": [
    "promedioFechaultimaEdicion = pd.to_datetime(serieValorPorFecha.mean())\n",
    "promedioFechaultimaEdicion"
   ]
  },
  {
   "cell_type": "code",
   "execution_count": 11,
   "metadata": {},
   "outputs": [
    {
     "name": "stdout",
     "output_type": "stream",
     "text": [
      "1580 days 02:28:59.785273096\n"
     ]
    }
   ],
   "source": [
    "fechaActual = pd.to_datetime(\"now\")\n",
    "promedioAntiguedad = fechaActual - promedioFechaultimaEdicion\n",
    "print(promedioAntiguedad)"
   ]
  },
  {
   "cell_type": "markdown",
   "metadata": {},
   "source": [
    "## Conclusiones\n",
    "Se concluye entonces que la antiguedad promedio de la última edición de los contenidos cuyo titulo contiene el apellido Zambrano es de más de 1580 días, siendo la fecha exacta el 10 de junio del 2017."
   ]
  }
 ],
 "metadata": {
  "kernelspec": {
   "display_name": "Python 3",
   "language": "python",
   "name": "python3"
  },
  "language_info": {
   "codemirror_mode": {
    "name": "ipython",
    "version": 3
   },
   "file_extension": ".py",
   "mimetype": "text/x-python",
   "name": "python",
   "nbconvert_exporter": "python",
   "pygments_lexer": "ipython3",
   "version": "3.8.5"
  },
  "varInspector": {
   "cols": {
    "lenName": 16,
    "lenType": 16,
    "lenVar": 40
   },
   "kernels_config": {
    "python": {
     "delete_cmd_postfix": "",
     "delete_cmd_prefix": "del ",
     "library": "var_list.py",
     "varRefreshCmd": "print(var_dic_list())"
    },
    "r": {
     "delete_cmd_postfix": ") ",
     "delete_cmd_prefix": "rm(",
     "library": "var_list.r",
     "varRefreshCmd": "cat(var_dic_list()) "
    }
   },
   "types_to_exclude": [
    "module",
    "function",
    "builtin_function_or_method",
    "instance",
    "_Feature"
   ],
   "window_display": false
  }
 },
 "nbformat": 4,
 "nbformat_minor": 4
}
